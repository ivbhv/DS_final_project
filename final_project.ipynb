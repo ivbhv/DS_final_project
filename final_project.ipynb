{
  "nbformat": 4,
  "nbformat_minor": 0,
  "metadata": {
    "colab": {
      "provenance": [],
      "include_colab_link": true
    },
    "kernelspec": {
      "name": "python3",
      "display_name": "Python 3"
    },
    "language_info": {
      "name": "python"
    }
  },
  "cells": [
    {
      "cell_type": "markdown",
      "metadata": {
        "id": "view-in-github",
        "colab_type": "text"
      },
      "source": [
        "<a href=\"https://colab.research.google.com/github/ivbhv/DS_final_project/blob/main/final_project.ipynb\" target=\"_parent\"><img src=\"https://colab.research.google.com/assets/colab-badge.svg\" alt=\"Open In Colab\"/></a>"
      ]
    },
    {
      "cell_type": "markdown",
      "source": [
        "# **Final Project - Recommendation system for products on an online retail webiste.**"
      ],
      "metadata": {
        "id": "MvHXa1-1FzvA"
      }
    },
    {
      "cell_type": "markdown",
      "source": [
        "# **Problem Statement :-**\n",
        "\n",
        " Analyze an online retail data set and Build  recommendation system to provide recommendation to user."
      ],
      "metadata": {
        "id": "FOL8H2--F4qX"
      }
    },
    {
      "cell_type": "markdown",
      "source": [
        "# **Abstract**\n",
        "\n",
        "Building recommendation systems for things sold online was the goal of this research. We assessed the top ten products to suggest to a user using a collaborative filtering methodology and a customer-item based matrix. Tools and Skills  Python, Recommender Systems, Collaborative Filtering"
      ],
      "metadata": {
        "id": "by9Y6ezlR5m_"
      }
    },
    {
      "cell_type": "markdown",
      "source": [
        "# **Approach**\n",
        "\n",
        "\n",
        "1. Read and explore the given dataset. (Rename column/add headers, plot histograms, find data characteristics)\n",
        "\n",
        "2. Prepare the data. Data cleaning involved\n",
        "\n",
        "3. Split the data randomly into train and test dataset. \n",
        "\n",
        "4. Create a Customer-Item Matrix.\n",
        "\n",
        "5. Build User based Collaborative Filtering model.\n",
        "\n",
        "6. Build Item-Based Collaborative Filtering\n",
        "\n",
        "7. Get top - K ( K = 10) recommendations. Since our goal is to recommend new products to each user based on his/her habits, we will recommend 10 new products.\n",
        "\n",
        "8. Summarise insights.\n",
        "\n",
        "\n"
      ],
      "metadata": {
        "id": "Qd0hUmP8F7LD"
      }
    },
    {
      "cell_type": "markdown",
      "source": [
        "* Importing required libraries of python to work on the dataset\n",
        "\n",
        "\n"
      ],
      "metadata": {
        "id": "7ZBuHK18GGzV"
      }
    },
    {
      "cell_type": "code",
      "source": [
        "from datetime import datetime, timedelta\n",
        "import pandas as pd\n",
        "import matplotlib.pyplot as plt\n",
        "import numpy as np\n",
        "import seaborn as sns\n",
        "import plotly.express as px\n",
        "import plotnine as pn"
      ],
      "metadata": {
        "id": "D060duYkF2A7"
      },
      "execution_count": 270,
      "outputs": []
    },
    {
      "cell_type": "markdown",
      "source": [
        "* read the data with the help of python."
      ],
      "metadata": {
        "id": "bvNx4iNhGOFO"
      }
    },
    {
      "cell_type": "code",
      "source": [
        "df = pd.read_csv('https://raw.githubusercontent.com/ivbhv/DS_final_project/main/OnlineRetail.csv',encoding= 'unicode_escape', parse_dates=['InvoiceDate'])\n",
        "df.head()"
      ],
      "metadata": {
        "colab": {
          "base_uri": "https://localhost:8080/",
          "height": 333
        },
        "id": "3lJJBt38FvzK",
        "outputId": "703a6339-79da-434d-f53b-38c2d6af5a06"
      },
      "execution_count": 306,
      "outputs": [
        {
          "output_type": "execute_result",
          "data": {
            "text/plain": [
              "  InvoiceNo StockCode                          Description  Quantity  \\\n",
              "0    536365    85123A   WHITE HANGING HEART T-LIGHT HOLDER         6   \n",
              "1    536365     71053                  WHITE METAL LANTERN         6   \n",
              "2    536365    84406B       CREAM CUPID HEARTS COAT HANGER         8   \n",
              "3    536365    84029G  KNITTED UNION FLAG HOT WATER BOTTLE         6   \n",
              "4    536365    84029E       RED WOOLLY HOTTIE WHITE HEART.         6   \n",
              "\n",
              "          InvoiceDate  UnitPrice  CustomerID         Country  \n",
              "0 2010-12-01 08:26:00       2.55     17850.0  United Kingdom  \n",
              "1 2010-12-01 08:26:00       3.39     17850.0  United Kingdom  \n",
              "2 2010-12-01 08:26:00       2.75     17850.0  United Kingdom  \n",
              "3 2010-12-01 08:26:00       3.39     17850.0  United Kingdom  \n",
              "4 2010-12-01 08:26:00       3.39     17850.0  United Kingdom  "
            ],
            "text/html": [
              "\n",
              "  <div id=\"df-e392af2d-4058-4456-b851-c7d9de5ed956\">\n",
              "    <div class=\"colab-df-container\">\n",
              "      <div>\n",
              "<style scoped>\n",
              "    .dataframe tbody tr th:only-of-type {\n",
              "        vertical-align: middle;\n",
              "    }\n",
              "\n",
              "    .dataframe tbody tr th {\n",
              "        vertical-align: top;\n",
              "    }\n",
              "\n",
              "    .dataframe thead th {\n",
              "        text-align: right;\n",
              "    }\n",
              "</style>\n",
              "<table border=\"1\" class=\"dataframe\">\n",
              "  <thead>\n",
              "    <tr style=\"text-align: right;\">\n",
              "      <th></th>\n",
              "      <th>InvoiceNo</th>\n",
              "      <th>StockCode</th>\n",
              "      <th>Description</th>\n",
              "      <th>Quantity</th>\n",
              "      <th>InvoiceDate</th>\n",
              "      <th>UnitPrice</th>\n",
              "      <th>CustomerID</th>\n",
              "      <th>Country</th>\n",
              "    </tr>\n",
              "  </thead>\n",
              "  <tbody>\n",
              "    <tr>\n",
              "      <th>0</th>\n",
              "      <td>536365</td>\n",
              "      <td>85123A</td>\n",
              "      <td>WHITE HANGING HEART T-LIGHT HOLDER</td>\n",
              "      <td>6</td>\n",
              "      <td>2010-12-01 08:26:00</td>\n",
              "      <td>2.55</td>\n",
              "      <td>17850.0</td>\n",
              "      <td>United Kingdom</td>\n",
              "    </tr>\n",
              "    <tr>\n",
              "      <th>1</th>\n",
              "      <td>536365</td>\n",
              "      <td>71053</td>\n",
              "      <td>WHITE METAL LANTERN</td>\n",
              "      <td>6</td>\n",
              "      <td>2010-12-01 08:26:00</td>\n",
              "      <td>3.39</td>\n",
              "      <td>17850.0</td>\n",
              "      <td>United Kingdom</td>\n",
              "    </tr>\n",
              "    <tr>\n",
              "      <th>2</th>\n",
              "      <td>536365</td>\n",
              "      <td>84406B</td>\n",
              "      <td>CREAM CUPID HEARTS COAT HANGER</td>\n",
              "      <td>8</td>\n",
              "      <td>2010-12-01 08:26:00</td>\n",
              "      <td>2.75</td>\n",
              "      <td>17850.0</td>\n",
              "      <td>United Kingdom</td>\n",
              "    </tr>\n",
              "    <tr>\n",
              "      <th>3</th>\n",
              "      <td>536365</td>\n",
              "      <td>84029G</td>\n",
              "      <td>KNITTED UNION FLAG HOT WATER BOTTLE</td>\n",
              "      <td>6</td>\n",
              "      <td>2010-12-01 08:26:00</td>\n",
              "      <td>3.39</td>\n",
              "      <td>17850.0</td>\n",
              "      <td>United Kingdom</td>\n",
              "    </tr>\n",
              "    <tr>\n",
              "      <th>4</th>\n",
              "      <td>536365</td>\n",
              "      <td>84029E</td>\n",
              "      <td>RED WOOLLY HOTTIE WHITE HEART.</td>\n",
              "      <td>6</td>\n",
              "      <td>2010-12-01 08:26:00</td>\n",
              "      <td>3.39</td>\n",
              "      <td>17850.0</td>\n",
              "      <td>United Kingdom</td>\n",
              "    </tr>\n",
              "  </tbody>\n",
              "</table>\n",
              "</div>\n",
              "      <button class=\"colab-df-convert\" onclick=\"convertToInteractive('df-e392af2d-4058-4456-b851-c7d9de5ed956')\"\n",
              "              title=\"Convert this dataframe to an interactive table.\"\n",
              "              style=\"display:none;\">\n",
              "        \n",
              "  <svg xmlns=\"http://www.w3.org/2000/svg\" height=\"24px\"viewBox=\"0 0 24 24\"\n",
              "       width=\"24px\">\n",
              "    <path d=\"M0 0h24v24H0V0z\" fill=\"none\"/>\n",
              "    <path d=\"M18.56 5.44l.94 2.06.94-2.06 2.06-.94-2.06-.94-.94-2.06-.94 2.06-2.06.94zm-11 1L8.5 8.5l.94-2.06 2.06-.94-2.06-.94L8.5 2.5l-.94 2.06-2.06.94zm10 10l.94 2.06.94-2.06 2.06-.94-2.06-.94-.94-2.06-.94 2.06-2.06.94z\"/><path d=\"M17.41 7.96l-1.37-1.37c-.4-.4-.92-.59-1.43-.59-.52 0-1.04.2-1.43.59L10.3 9.45l-7.72 7.72c-.78.78-.78 2.05 0 2.83L4 21.41c.39.39.9.59 1.41.59.51 0 1.02-.2 1.41-.59l7.78-7.78 2.81-2.81c.8-.78.8-2.07 0-2.86zM5.41 20L4 18.59l7.72-7.72 1.47 1.35L5.41 20z\"/>\n",
              "  </svg>\n",
              "      </button>\n",
              "      \n",
              "  <style>\n",
              "    .colab-df-container {\n",
              "      display:flex;\n",
              "      flex-wrap:wrap;\n",
              "      gap: 12px;\n",
              "    }\n",
              "\n",
              "    .colab-df-convert {\n",
              "      background-color: #E8F0FE;\n",
              "      border: none;\n",
              "      border-radius: 50%;\n",
              "      cursor: pointer;\n",
              "      display: none;\n",
              "      fill: #1967D2;\n",
              "      height: 32px;\n",
              "      padding: 0 0 0 0;\n",
              "      width: 32px;\n",
              "    }\n",
              "\n",
              "    .colab-df-convert:hover {\n",
              "      background-color: #E2EBFA;\n",
              "      box-shadow: 0px 1px 2px rgba(60, 64, 67, 0.3), 0px 1px 3px 1px rgba(60, 64, 67, 0.15);\n",
              "      fill: #174EA6;\n",
              "    }\n",
              "\n",
              "    [theme=dark] .colab-df-convert {\n",
              "      background-color: #3B4455;\n",
              "      fill: #D2E3FC;\n",
              "    }\n",
              "\n",
              "    [theme=dark] .colab-df-convert:hover {\n",
              "      background-color: #434B5C;\n",
              "      box-shadow: 0px 1px 3px 1px rgba(0, 0, 0, 0.15);\n",
              "      filter: drop-shadow(0px 1px 2px rgba(0, 0, 0, 0.3));\n",
              "      fill: #FFFFFF;\n",
              "    }\n",
              "  </style>\n",
              "\n",
              "      <script>\n",
              "        const buttonEl =\n",
              "          document.querySelector('#df-e392af2d-4058-4456-b851-c7d9de5ed956 button.colab-df-convert');\n",
              "        buttonEl.style.display =\n",
              "          google.colab.kernel.accessAllowed ? 'block' : 'none';\n",
              "\n",
              "        async function convertToInteractive(key) {\n",
              "          const element = document.querySelector('#df-e392af2d-4058-4456-b851-c7d9de5ed956');\n",
              "          const dataTable =\n",
              "            await google.colab.kernel.invokeFunction('convertToInteractive',\n",
              "                                                     [key], {});\n",
              "          if (!dataTable) return;\n",
              "\n",
              "          const docLinkHtml = 'Like what you see? Visit the ' +\n",
              "            '<a target=\"_blank\" href=https://colab.research.google.com/notebooks/data_table.ipynb>data table notebook</a>'\n",
              "            + ' to learn more about interactive tables.';\n",
              "          element.innerHTML = '';\n",
              "          dataTable['output_type'] = 'display_data';\n",
              "          await google.colab.output.renderOutput(dataTable, element);\n",
              "          const docLink = document.createElement('div');\n",
              "          docLink.innerHTML = docLinkHtml;\n",
              "          element.appendChild(docLink);\n",
              "        }\n",
              "      </script>\n",
              "    </div>\n",
              "  </div>\n",
              "  "
            ]
          },
          "metadata": {},
          "execution_count": 306
        }
      ]
    },
    {
      "cell_type": "code",
      "source": [
        "# This shows the count Rows and columns of dataset\n",
        "df.shape"
      ],
      "metadata": {
        "colab": {
          "base_uri": "https://localhost:8080/"
        },
        "id": "DvqIY_oPGQSV",
        "outputId": "4dcdfc58-b61d-497f-b29c-d92410b16653"
      },
      "execution_count": 272,
      "outputs": [
        {
          "output_type": "execute_result",
          "data": {
            "text/plain": [
              "(541909, 8)"
            ]
          },
          "metadata": {},
          "execution_count": 272
        }
      ]
    },
    {
      "cell_type": "markdown",
      "source": [
        "* Here are some negative quantities because of the canceled or refunded orders. I will remove them from the data set."
      ],
      "metadata": {
        "id": "VH08s47PxDeZ"
      }
    },
    {
      "cell_type": "code",
      "source": [
        "# #filtering out negative quantities\n",
        "df = df.loc[df['Quantity'] > 0]\n",
        "df.shape"
      ],
      "metadata": {
        "colab": {
          "base_uri": "https://localhost:8080/"
        },
        "id": "VppUVwbKGRxe",
        "outputId": "9c5d9980-923c-42b2-b114-b77e2cf3b519"
      },
      "execution_count": 273,
      "outputs": [
        {
          "output_type": "execute_result",
          "data": {
            "text/plain": [
              "(531285, 8)"
            ]
          },
          "metadata": {},
          "execution_count": 273
        }
      ]
    },
    {
      "cell_type": "code",
      "source": [
        "# Get the type of data we have.\n",
        "df['CustomerID'].describe()"
      ],
      "metadata": {
        "colab": {
          "base_uri": "https://localhost:8080/"
        },
        "id": "MpU-StnZGVAf",
        "outputId": "1b346b88-2152-46db-e6cd-31d1de6831e8"
      },
      "execution_count": 274,
      "outputs": [
        {
          "output_type": "execute_result",
          "data": {
            "text/plain": [
              "count    397924.000000\n",
              "mean      15294.315171\n",
              "std        1713.169877\n",
              "min       12346.000000\n",
              "25%       13969.000000\n",
              "50%       15159.000000\n",
              "75%       16795.000000\n",
              "max       18287.000000\n",
              "Name: CustomerID, dtype: float64"
            ]
          },
          "metadata": {},
          "execution_count": 274
        }
      ]
    },
    {
      "cell_type": "code",
      "source": [
        "df.isna().sum()"
      ],
      "metadata": {
        "colab": {
          "base_uri": "https://localhost:8080/"
        },
        "id": "KAG1-QxHzx4O",
        "outputId": "2b38f76c-0ffd-44a2-b15c-44c621c7a949"
      },
      "execution_count": 275,
      "outputs": [
        {
          "output_type": "execute_result",
          "data": {
            "text/plain": [
              "InvoiceNo           0\n",
              "StockCode           0\n",
              "Description       592\n",
              "Quantity            0\n",
              "InvoiceDate         0\n",
              "UnitPrice           0\n",
              "CustomerID     133361\n",
              "Country             0\n",
              "dtype: int64"
            ]
          },
          "metadata": {},
          "execution_count": 275
        }
      ]
    },
    {
      "cell_type": "markdown",
      "source": [
        "* It seems we are missing a lot of CustomerID data That can be for multiple reasons and considering we are doing customer segementation we need CustomerID, so i will just drop rows where ID is empty and for Description considering we have StockCode we could fill that up if all 1454 are not from same item and one is causing problems"
      ],
      "metadata": {
        "id": "8N4pXzgS0tbJ"
      }
    },
    {
      "cell_type": "code",
      "source": [
        "df['CustomerID'].isna().sum()"
      ],
      "metadata": {
        "colab": {
          "base_uri": "https://localhost:8080/"
        },
        "id": "XkzfQDlyGeFd",
        "outputId": "a15f8332-6f81-4e76-e098-98a4d05a13a6"
      },
      "execution_count": 276,
      "outputs": [
        {
          "output_type": "execute_result",
          "data": {
            "text/plain": [
              "133361"
            ]
          },
          "metadata": {},
          "execution_count": 276
        }
      ]
    },
    {
      "cell_type": "code",
      "source": [
        "df.loc[df['CustomerID'].isna()].head()"
      ],
      "metadata": {
        "colab": {
          "base_uri": "https://localhost:8080/",
          "height": 333
        },
        "id": "X2SsoEdSGgFC",
        "outputId": "d162450d-d384-40ee-fe50-baf6bc79b054"
      },
      "execution_count": 277,
      "outputs": [
        {
          "output_type": "execute_result",
          "data": {
            "text/plain": [
              "     InvoiceNo StockCode                      Description  Quantity  \\\n",
              "622     536414     22139                              NaN        56   \n",
              "1443    536544     21773  DECORATIVE ROSE BATHROOM BOTTLE         1   \n",
              "1444    536544     21774  DECORATIVE CATS BATHROOM BOTTLE         2   \n",
              "1445    536544     21786               POLKADOT RAIN HAT          4   \n",
              "1446    536544     21787            RAIN PONCHO RETROSPOT         2   \n",
              "\n",
              "             InvoiceDate  UnitPrice  CustomerID         Country  \n",
              "622  2010-12-01 11:52:00       0.00         NaN  United Kingdom  \n",
              "1443 2010-12-01 14:32:00       2.51         NaN  United Kingdom  \n",
              "1444 2010-12-01 14:32:00       2.51         NaN  United Kingdom  \n",
              "1445 2010-12-01 14:32:00       0.85         NaN  United Kingdom  \n",
              "1446 2010-12-01 14:32:00       1.66         NaN  United Kingdom  "
            ],
            "text/html": [
              "\n",
              "  <div id=\"df-5c81db43-5a27-48a4-820f-68e0e22ca233\">\n",
              "    <div class=\"colab-df-container\">\n",
              "      <div>\n",
              "<style scoped>\n",
              "    .dataframe tbody tr th:only-of-type {\n",
              "        vertical-align: middle;\n",
              "    }\n",
              "\n",
              "    .dataframe tbody tr th {\n",
              "        vertical-align: top;\n",
              "    }\n",
              "\n",
              "    .dataframe thead th {\n",
              "        text-align: right;\n",
              "    }\n",
              "</style>\n",
              "<table border=\"1\" class=\"dataframe\">\n",
              "  <thead>\n",
              "    <tr style=\"text-align: right;\">\n",
              "      <th></th>\n",
              "      <th>InvoiceNo</th>\n",
              "      <th>StockCode</th>\n",
              "      <th>Description</th>\n",
              "      <th>Quantity</th>\n",
              "      <th>InvoiceDate</th>\n",
              "      <th>UnitPrice</th>\n",
              "      <th>CustomerID</th>\n",
              "      <th>Country</th>\n",
              "    </tr>\n",
              "  </thead>\n",
              "  <tbody>\n",
              "    <tr>\n",
              "      <th>622</th>\n",
              "      <td>536414</td>\n",
              "      <td>22139</td>\n",
              "      <td>NaN</td>\n",
              "      <td>56</td>\n",
              "      <td>2010-12-01 11:52:00</td>\n",
              "      <td>0.00</td>\n",
              "      <td>NaN</td>\n",
              "      <td>United Kingdom</td>\n",
              "    </tr>\n",
              "    <tr>\n",
              "      <th>1443</th>\n",
              "      <td>536544</td>\n",
              "      <td>21773</td>\n",
              "      <td>DECORATIVE ROSE BATHROOM BOTTLE</td>\n",
              "      <td>1</td>\n",
              "      <td>2010-12-01 14:32:00</td>\n",
              "      <td>2.51</td>\n",
              "      <td>NaN</td>\n",
              "      <td>United Kingdom</td>\n",
              "    </tr>\n",
              "    <tr>\n",
              "      <th>1444</th>\n",
              "      <td>536544</td>\n",
              "      <td>21774</td>\n",
              "      <td>DECORATIVE CATS BATHROOM BOTTLE</td>\n",
              "      <td>2</td>\n",
              "      <td>2010-12-01 14:32:00</td>\n",
              "      <td>2.51</td>\n",
              "      <td>NaN</td>\n",
              "      <td>United Kingdom</td>\n",
              "    </tr>\n",
              "    <tr>\n",
              "      <th>1445</th>\n",
              "      <td>536544</td>\n",
              "      <td>21786</td>\n",
              "      <td>POLKADOT RAIN HAT</td>\n",
              "      <td>4</td>\n",
              "      <td>2010-12-01 14:32:00</td>\n",
              "      <td>0.85</td>\n",
              "      <td>NaN</td>\n",
              "      <td>United Kingdom</td>\n",
              "    </tr>\n",
              "    <tr>\n",
              "      <th>1446</th>\n",
              "      <td>536544</td>\n",
              "      <td>21787</td>\n",
              "      <td>RAIN PONCHO RETROSPOT</td>\n",
              "      <td>2</td>\n",
              "      <td>2010-12-01 14:32:00</td>\n",
              "      <td>1.66</td>\n",
              "      <td>NaN</td>\n",
              "      <td>United Kingdom</td>\n",
              "    </tr>\n",
              "  </tbody>\n",
              "</table>\n",
              "</div>\n",
              "      <button class=\"colab-df-convert\" onclick=\"convertToInteractive('df-5c81db43-5a27-48a4-820f-68e0e22ca233')\"\n",
              "              title=\"Convert this dataframe to an interactive table.\"\n",
              "              style=\"display:none;\">\n",
              "        \n",
              "  <svg xmlns=\"http://www.w3.org/2000/svg\" height=\"24px\"viewBox=\"0 0 24 24\"\n",
              "       width=\"24px\">\n",
              "    <path d=\"M0 0h24v24H0V0z\" fill=\"none\"/>\n",
              "    <path d=\"M18.56 5.44l.94 2.06.94-2.06 2.06-.94-2.06-.94-.94-2.06-.94 2.06-2.06.94zm-11 1L8.5 8.5l.94-2.06 2.06-.94-2.06-.94L8.5 2.5l-.94 2.06-2.06.94zm10 10l.94 2.06.94-2.06 2.06-.94-2.06-.94-.94-2.06-.94 2.06-2.06.94z\"/><path d=\"M17.41 7.96l-1.37-1.37c-.4-.4-.92-.59-1.43-.59-.52 0-1.04.2-1.43.59L10.3 9.45l-7.72 7.72c-.78.78-.78 2.05 0 2.83L4 21.41c.39.39.9.59 1.41.59.51 0 1.02-.2 1.41-.59l7.78-7.78 2.81-2.81c.8-.78.8-2.07 0-2.86zM5.41 20L4 18.59l7.72-7.72 1.47 1.35L5.41 20z\"/>\n",
              "  </svg>\n",
              "      </button>\n",
              "      \n",
              "  <style>\n",
              "    .colab-df-container {\n",
              "      display:flex;\n",
              "      flex-wrap:wrap;\n",
              "      gap: 12px;\n",
              "    }\n",
              "\n",
              "    .colab-df-convert {\n",
              "      background-color: #E8F0FE;\n",
              "      border: none;\n",
              "      border-radius: 50%;\n",
              "      cursor: pointer;\n",
              "      display: none;\n",
              "      fill: #1967D2;\n",
              "      height: 32px;\n",
              "      padding: 0 0 0 0;\n",
              "      width: 32px;\n",
              "    }\n",
              "\n",
              "    .colab-df-convert:hover {\n",
              "      background-color: #E2EBFA;\n",
              "      box-shadow: 0px 1px 2px rgba(60, 64, 67, 0.3), 0px 1px 3px 1px rgba(60, 64, 67, 0.15);\n",
              "      fill: #174EA6;\n",
              "    }\n",
              "\n",
              "    [theme=dark] .colab-df-convert {\n",
              "      background-color: #3B4455;\n",
              "      fill: #D2E3FC;\n",
              "    }\n",
              "\n",
              "    [theme=dark] .colab-df-convert:hover {\n",
              "      background-color: #434B5C;\n",
              "      box-shadow: 0px 1px 3px 1px rgba(0, 0, 0, 0.15);\n",
              "      filter: drop-shadow(0px 1px 2px rgba(0, 0, 0, 0.3));\n",
              "      fill: #FFFFFF;\n",
              "    }\n",
              "  </style>\n",
              "\n",
              "      <script>\n",
              "        const buttonEl =\n",
              "          document.querySelector('#df-5c81db43-5a27-48a4-820f-68e0e22ca233 button.colab-df-convert');\n",
              "        buttonEl.style.display =\n",
              "          google.colab.kernel.accessAllowed ? 'block' : 'none';\n",
              "\n",
              "        async function convertToInteractive(key) {\n",
              "          const element = document.querySelector('#df-5c81db43-5a27-48a4-820f-68e0e22ca233');\n",
              "          const dataTable =\n",
              "            await google.colab.kernel.invokeFunction('convertToInteractive',\n",
              "                                                     [key], {});\n",
              "          if (!dataTable) return;\n",
              "\n",
              "          const docLinkHtml = 'Like what you see? Visit the ' +\n",
              "            '<a target=\"_blank\" href=https://colab.research.google.com/notebooks/data_table.ipynb>data table notebook</a>'\n",
              "            + ' to learn more about interactive tables.';\n",
              "          element.innerHTML = '';\n",
              "          dataTable['output_type'] = 'display_data';\n",
              "          await google.colab.output.renderOutput(dataTable, element);\n",
              "          const docLink = document.createElement('div');\n",
              "          docLink.innerHTML = docLinkHtml;\n",
              "          element.appendChild(docLink);\n",
              "        }\n",
              "      </script>\n",
              "    </div>\n",
              "  </div>\n",
              "  "
            ]
          },
          "metadata": {},
          "execution_count": 277
        }
      ]
    },
    {
      "cell_type": "code",
      "source": [
        "#df.dropna(subset=['CustomerID'],inplace=True) it is not smart to use inplace. We should always reassign\n",
        "\n",
        "df = df.dropna(subset=['CustomerID'])"
      ],
      "metadata": {
        "id": "2eS-3rt-GiHC"
      },
      "execution_count": 278,
      "outputs": []
    },
    {
      "cell_type": "markdown",
      "source": [
        "* We don't have Total column so i will add one for comparison later."
      ],
      "metadata": {
        "id": "QssGP9uyPhnK"
      }
    },
    {
      "cell_type": "code",
      "source": [
        "df['TotalPrice'] = df['Quantity'] * df['UnitPrice']"
      ],
      "metadata": {
        "colab": {
          "base_uri": "https://localhost:8080/"
        },
        "id": "a47dqanCPjTA",
        "outputId": "86994ca7-eabd-46c5-b31b-5d2a526e4aa0"
      },
      "execution_count": 279,
      "outputs": [
        {
          "output_type": "stream",
          "name": "stderr",
          "text": [
            "<ipython-input-279-18878337d6d9>:1: SettingWithCopyWarning: \n",
            "A value is trying to be set on a copy of a slice from a DataFrame.\n",
            "Try using .loc[row_indexer,col_indexer] = value instead\n",
            "\n",
            "See the caveats in the documentation: https://pandas.pydata.org/pandas-docs/stable/user_guide/indexing.html#returning-a-view-versus-a-copy\n"
          ]
        }
      ]
    },
    {
      "cell_type": "markdown",
      "source": [
        "**Time Series Analysis**\n",
        "\n",
        "Before looking at the product-level data, I will explore overall time series trends in the revenue and the number of orders to understand whether the business is growing or shrinking over time.\n",
        "\n",
        "First, let's look at the number of orders over time."
      ],
      "metadata": {
        "id": "gzy82wua6XbU"
      }
    },
    {
      "cell_type": "code",
      "source": [
        "# convert InvoiceDate to month and group by it\n",
        "num_invoices = df.groupby(pd.Grouper(key='InvoiceDate', freq='M')).InvoiceNo.nunique().reset_index()\n",
        "\n",
        "# plot the results\n",
        "plt.figure(figsize=(16,8))\n",
        "plt.plot(num_invoices['InvoiceDate'], num_invoices['InvoiceNo'])\n",
        "plt.xlabel('Date', fontsize=18)\n",
        "plt.ylabel('Number of Orders', fontsize=18)\n",
        "plt.title('Number of Orders over Time', fontsize=18)\n",
        "plt.xticks(fontsize=18)\n",
        "plt.yticks(fontsize=18)\n",
        "plt.show()\n"
      ],
      "metadata": {
        "colab": {
          "base_uri": "https://localhost:8080/",
          "height": 533
        },
        "id": "eQblugE36kd5",
        "outputId": "48de0328-351e-4e82-c4f1-95fd93c08fe0"
      },
      "execution_count": 280,
      "outputs": [
        {
          "output_type": "display_data",
          "data": {
            "text/plain": [
              "<Figure size 1152x576 with 1 Axes>"
            ],
            "image/png": "[encoded data removed]"
          },
          "metadata": {
            "needs_background": "light"
          }
        }
      ]
    },
    {
      "cell_type": "markdown",
      "source": [
        "* Here is the sudden drop in the number of orders in December 2011. This is because we only have the data from December 1 to December 9. I'm going to remove the data from December for my analysis. Otherwise, it would be a misrepresentation."
      ],
      "metadata": {
        "id": "C6-LprGO6zQt"
      }
    },
    {
      "cell_type": "code",
      "source": [
        "# removing this data from the data set\n",
        "df = df[df[\"InvoiceDate\"] < \"2011-12-01\"]\n",
        "\n",
        "num_invoices = df.groupby(pd.Grouper(key=\"InvoiceDate\", freq=\"M\")).InvoiceNo.nunique()\n",
        "\n",
        "# plotting again\n",
        "\n",
        "plt.figure(figsize=(16,8))\n",
        "plt.plot(num_invoices.index, num_invoices.values, color=\"darkgreen\")\n",
        "plt.title(\"Number of Orders over Time\", size=18)\n",
        "plt.ylabel(\"Number of Orders\", size=18)\n",
        "plt.xlabel(\"Date\", size=18)\n",
        "plt.tick_params(axis='x', which='both', labelsize=18)\n",
        "plt.tick_params(axis='y', which='both', labelsize=18)"
      ],
      "metadata": {
        "colab": {
          "base_uri": "https://localhost:8080/",
          "height": 533
        },
        "id": "WL8gEGs87b30",
        "outputId": "645a2842-7535-4f52-9716-522cda3fd7f9"
      },
      "execution_count": 281,
      "outputs": [
        {
          "output_type": "display_data",
          "data": {
            "text/plain": [
              "<Figure size 1152x576 with 1 Axes>"
            ],
            "image/png": "[encoded data removed]"
          },
          "metadata": {
            "needs_background": "light"
          }
        }
      ]
    },
    {
      "cell_type": "markdown",
      "source": [
        "* We can observe that starting in September 2011, there was a noticeable increase in the number of orders, which peaked in November 2011. That can have occurred as a result of seasonal effects or a developing business. To learn more in this situation, it is imperative that we consider the prior years. \n",
        "\n",
        "Now let's examine the monthly sales."
      ],
      "metadata": {
        "id": "PTDX3x4j7ayG"
      }
    },
    {
      "cell_type": "code",
      "source": [
        "# calculate the sales column\n",
        "df = df.assign(Sales=df['Quantity']*df['UnitPrice'])\n",
        "\n",
        "revenue = df.groupby(pd.Grouper(key='InvoiceDate', freq='M'))['Sales'].sum().reset_index()\n",
        "plt.figure(figsize=(16,8))\n",
        "plt.plot(revenue.index, revenue.values, color='darkgreen')\n",
        "plt.title(\"Revenue over Time\", size=18)\n",
        "plt.ylabel(\"Sales\", size=18)\n",
        "plt.xlabel(\"Date\", size=18)\n",
        "plt.xticks(size=18)\n",
        "plt.yticks(size=18)\n",
        "\n",
        "\n"
      ],
      "metadata": {
        "colab": {
          "base_uri": "https://localhost:8080/",
          "height": 601
        },
        "id": "0ZonQwiF-VN9",
        "outputId": "3e2c7da2-672e-48b1-c51f-d77640c42265"
      },
      "execution_count": 282,
      "outputs": [
        {
          "output_type": "execute_result",
          "data": {
            "text/plain": [
              "(array([ 291829.00000463,  437926.00000463,  584023.00000463,\n",
              "         730120.00000463,  876217.00000463, 1022314.00000463,\n",
              "        1168411.00000463, 1314508.00000463]),\n",
              " <a list of 8 Text major ticklabel objects>)"
            ]
          },
          "metadata": {},
          "execution_count": 282
        },
        {
          "output_type": "display_data",
          "data": {
            "text/plain": [
              "<Figure size 1152x576 with 1 Axes>"
            ],
            "image/png": "[encoded data removed]"
          },
          "metadata": {
            "needs_background": "light"
          }
        }
      ]
    },
    {
      "cell_type": "markdown",
      "source": [
        "* The pattern here is the same as it was with the quantity of orders. Understanding overall business success is aided by this examination of orders and revenue."
      ],
      "metadata": {
        "id": "-HUTGvq37bk4"
      }
    },
    {
      "cell_type": "markdown",
      "source": [
        "**Repeat Customers**\n",
        "\n",
        "Every successful business knows how important it is to retain customers to have a steady stream of sales from them. Let's see how many sales are from existing customers for this online retail business that I'm analyzing."
      ],
      "metadata": {
        "id": "H_5dfCxOlDCO"
      }
    },
    {
      "cell_type": "code",
      "source": [
        "# aggregating data so that one row represents one purchase order\n",
        "invoice = df.groupby(['InvoiceNo', 'InvoiceDate']).agg(CustomerID = pd.NamedAgg(column ='CustomerID', aggfunc='max'), Sales = pd.NamedAgg(column ='Sales', aggfunc='sum')).reset_index()\n",
        "\n",
        "# aggregating data into months\n",
        "invoice_customer = invoice.groupby([pd.Grouper(key='InvoiceDate', freq='M'), 'CustomerID']).agg(Count = pd.NamedAgg(column ='InvoiceNo', aggfunc=lambda x: x.nunique()), Sales = pd.NamedAgg(column ='Sales', aggfunc='sum')).reset_index()\n",
        "\n",
        "# filter out customer with 1 order and NA CustomerId\n",
        "repeat_customer = invoice_customer[~pd.isnull(invoice_customer[\"CustomerID\"]) &(invoice_customer.Count > 1)]\n",
        "repeat_customer = repeat_customer.groupby(['InvoiceDate']).agg(Count = pd.NamedAgg(column ='CustomerID', aggfunc=lambda x: x.nunique()), Sales = pd.NamedAgg(column ='Sales', aggfunc='sum')).reset_index()\n",
        "\n",
        "# total number of monthyl customer\n",
        "unique_customers = df.groupby([pd.Grouper(key='InvoiceDate', freq='M')]).agg(Count = pd.NamedAgg(column ='CustomerID', aggfunc=lambda x: x.nunique())).reset_index()\n",
        "\n",
        "# find the percentage of monthly revenue that are attributed to the repeat customers\n",
        "repeat_customer['Perc'] = repeat_customer['Sales'] / revenue['Sales'] * 100.0\n",
        "\n",
        "# append unique customers\n",
        "repeat_customer['Total'] = unique_customers['Count']\n",
        "\n",
        "# visualize repeat customers data\n",
        "\n",
        "plt.figure(figsize=(16,8))\n",
        "plt.plot(repeat_customer['InvoiceDate'], repeat_customer['Total'], color='navy')\n",
        "plt.plot(repeat_customer['InvoiceDate'], repeat_customer['Count'], color='orange')\n",
        "plt.bar(repeat_customer['InvoiceDate'], repeat_customer['Perc']*20, color='gray', alpha=0.5)\n",
        "plt.gca().yaxis.set_major_formatter(plt.FuncFormatter(lambda x, pos: '{:.0f}%'.format(x/20)))\n",
        "plt.title('Number of Unique vs Repeat & Revenue from Repeat Customers')\n",
        "plt.xlabel('InvoiceDate')\n",
        "plt.ylabel('Total')\n",
        "plt.show()"
      ],
      "metadata": {
        "colab": {
          "base_uri": "https://localhost:8080/",
          "height": 513
        },
        "id": "OrUaq8E_ecsE",
        "outputId": "ec4f3766-cdbc-4a9d-8f35-8308a2ff3d2d"
      },
      "execution_count": 283,
      "outputs": [
        {
          "output_type": "display_data",
          "data": {
            "text/plain": [
              "<Figure size 1152x576 with 1 Axes>"
            ],
            "image/png": "[encoded data removed]"
          },
          "metadata": {
            "needs_background": "light"
          }
        }
      ]
    },
    {
      "cell_type": "markdown",
      "source": [
        "Blue line - Number of unique (total) customers\n",
        "\n",
        "Yellow line - Number of repeat customers\n",
        "\n",
        "Gray bars - represent the revenue from repeat customers\n",
        "\n",
        "We see that repeat customers are about 20-30 % of the total monthly customers. But 40-50% of revenue comes from these repeat customers. Here we see a great example of why it is important to retain existing customers.\n",
        "\n",
        "**Trending Products**\n",
        "\n",
        "I'm going to explore how customers interact with company products and take a look at the top five best-sellers over time."
      ],
      "metadata": {
        "id": "629SyoDEyHg5"
      }
    },
    {
      "cell_type": "code",
      "source": [
        "# number of items sold for each product for each period\n",
        "popular_products = df.groupby([pd.Grouper(key='InvoiceDate', freq='M'), 'StockCode']).agg(Quantity = pd.NamedAgg(column ='Quantity', aggfunc='sum')).reset_index()\n",
        "\n",
        "#let's find top 5 items sold in November 2011 (most recent trends)\n",
        "top_5 = popular_products[(popular_products.InvoiceDate==\"2011-11-30\")].sort_values(by=['Quantity'], ascending=[False])[:5]\n",
        "\n",
        "# #here we take the data from PopularProducts data frame with the stock codes in Top5\n",
        "top_5_monthly = popular_products[popular_products['StockCode'].isin(top_5['StockCode'])]\n",
        "\n",
        "pn.ggplot(top_5_monthly, pn.aes(x='InvoiceDate', y='Quantity', color='StockCode')) + pn.geom_line() + pn.labs(title=\"Top 5 Popular Products over Time\") + pn.ylab(\"Number of purchases\") + pn.xlab(\"Date\") + pn.theme(axis_text_x=pn.element_text(size=8), axis_text_y=pn.element_text(size=12), axis_title=pn.element_text(size=18), plot_title=pn.element_text(size=18))"
      ],
      "metadata": {
        "colab": {
          "base_uri": "https://localhost:8080/",
          "height": 502
        },
        "id": "YX8RQpwzynts",
        "outputId": "0f1a6e3f-7184-4eb6-c23c-d2a28af8986c"
      },
      "execution_count": 284,
      "outputs": [
        {
          "output_type": "display_data",
          "data": {
            "text/plain": [
              "<Figure size 640x480 with 1 Axes>"
            ],
            "image/png": "[encoded data removed]"
          },
          "metadata": {}
        },
        {
          "output_type": "execute_result",
          "data": {
            "text/plain": [
              "<ggplot: (8751563637465)>"
            ]
          },
          "metadata": {},
          "execution_count": 284
        }
      ]
    },
    {
      "cell_type": "markdown",
      "source": [],
      "metadata": {
        "id": "snEKfpSjFcQb"
      }
    },
    {
      "cell_type": "markdown",
      "source": [
        "* Here we see top-5 trending products with the stock codes 22086, 22197, 23084, 84826, and 85099B. I can recommend these popular products in marketing emails or ads to improve engagement. New customers might be more interested in these items and more likely to purchase them. So this can help to increase the conversion rate of your online campaigns or conversion rates of your web pages with these products."
      ],
      "metadata": {
        "id": "G6so3RLFykdt"
      }
    },
    {
      "cell_type": "markdown",
      "source": [
        "**Top revenue**\n",
        "\n",
        "We can see the top contries from were we are getting the sales."
      ],
      "metadata": {
        "id": "whY3mPcqPHNF"
      }
    },
    {
      "cell_type": "code",
      "source": [
        "px.pie(df.groupby('Country').TotalPrice.sum().reset_index()[:20], values='TotalPrice', names='Country', \n",
        "      title='TOP BEST 20 COUNTRIES BY SALES')"
      ],
      "metadata": {
        "colab": {
          "base_uri": "https://localhost:8080/",
          "height": 542
        },
        "id": "F3BljjJwPOTc",
        "outputId": "d8d46bd9-1430-4884-ba37-13466beab6f0"
      },
      "execution_count": 285,
      "outputs": [
        {
          "output_type": "display_data",
          "data": {
            "text/html": [
              "<html>\n",
              "<head><meta charset=\"utf-8\" /></head>\n",
              "<body>\n",
              "    <div>            <script src=\"https://cdnjs.cloudflare.com/ajax/libs/mathjax/2.7.5/MathJax.js?config=TeX-AMS-MML_SVG\"></script><script type=\"text/javascript\">if (window.MathJax) {MathJax.Hub.Config({SVG: {font: \"STIX-Web\"}});}</script>                <script type=\"text/javascript\">window.PlotlyConfig = {MathJaxConfig: 'local'};</script>\n",
              "        <script src=\"https://cdn.plot.ly/plotly-2.8.3.min.js\"></script>                <div id=\"82597f28-ee15-4830-914a-21a32175e5d8\" class=\"plotly-graph-div\" style=\"height:525px; width:100%;\"></div>            <script type=\"text/javascript\">                                    window.PLOTLYENV=window.PLOTLYENV || {};                                    if (document.getElementById(\"82597f28-ee15-4830-914a-21a32175e5d8\")) {                    Plotly.newPlot(                        \"82597f28-ee15-4830-914a-21a32175e5d8\",                        [{\"domain\":{\"x\":[0.0,1.0],\"y\":[0.0,1.0]},\"hovertemplate\":\"Country=%{label}<br>TotalPrice=%{value}<extra></extra>\",\"labels\":[\"Australia\",\"Austria\",\"Bahrain\",\"Belgium\",\"Brazil\",\"Canada\",\"Channel Islands\",\"Cyprus\",\"Czech Republic\",\"Denmark\",\"EIRE\",\"European Community\",\"Finland\",\"France\",\"Germany\",\"Greece\",\"Iceland\",\"Israel\",\"Italy\",\"Japan\"],\"legendgroup\":\"\",\"name\":\"\",\"showlegend\":true,\"values\":[138521.31,9515.48,548.4,39778.61,1143.6,3666.38,20252.04,13590.38,826.74,18786.440000000002,258566.98,1300.25,21313.32,201747.13,220882.97,4079.53,4085.1800000000003,7221.69,17282.79,37416.369999999995],\"type\":\"pie\"}],                        {\"template\":{\"data\":{\"bar\":[{\"error_x\":{\"color\":\"#2a3f5f\"},\"error_y\":{\"color\":\"#2a3f5f\"},\"marker\":{\"line\":{\"color\":\"#E5ECF6\",\"width\":0.5},\"pattern\":{\"fillmode\":\"overlay\",\"size\":10,\"solidity\":0.2}},\"type\":\"bar\"}],\"barpolar\":[{\"marker\":{\"line\":{\"color\":\"#E5ECF6\",\"width\":0.5},\"pattern\":{\"fillmode\":\"overlay\",\"size\":10,\"solidity\":0.2}},\"type\":\"barpolar\"}],\"carpet\":[{\"aaxis\":{\"endlinecolor\":\"#2a3f5f\",\"gridcolor\":\"white\",\"linecolor\":\"white\",\"minorgridcolor\":\"white\",\"startlinecolor\":\"#2a3f5f\"},\"baxis\":{\"endlinecolor\":\"#2a3f5f\",\"gridcolor\":\"white\",\"linecolor\":\"white\",\"minorgridcolor\":\"white\",\"startlinecolor\":\"#2a3f5f\"},\"type\":\"carpet\"}],\"choropleth\":[{\"colorbar\":{\"outlinewidth\":0,\"ticks\":\"\"},\"type\":\"choropleth\"}],\"contour\":[{\"colorbar\":{\"outlinewidth\":0,\"ticks\":\"\"},\"colorscale\":[[0.0,\"#0d0887\"],[0.1111111111111111,\"#46039f\"],[0.2222222222222222,\"#7201a8\"],[0.3333333333333333,\"#9c179e\"],[0.4444444444444444,\"#bd3786\"],[0.5555555555555556,\"#d8576b\"],[0.6666666666666666,\"#ed7953\"],[0.7777777777777778,\"#fb9f3a\"],[0.8888888888888888,\"#fdca26\"],[1.0,\"#f0f921\"]],\"type\":\"contour\"}],\"contourcarpet\":[{\"colorbar\":{\"outlinewidth\":0,\"ticks\":\"\"},\"type\":\"contourcarpet\"}],\"heatmap\":[{\"colorbar\":{\"outlinewidth\":0,\"ticks\":\"\"},\"colorscale\":[[0.0,\"#0d0887\"],[0.1111111111111111,\"#46039f\"],[0.2222222222222222,\"#7201a8\"],[0.3333333333333333,\"#9c179e\"],[0.4444444444444444,\"#bd3786\"],[0.5555555555555556,\"#d8576b\"],[0.6666666666666666,\"#ed7953\"],[0.7777777777777778,\"#fb9f3a\"],[0.8888888888888888,\"#fdca26\"],[1.0,\"#f0f921\"]],\"type\":\"heatmap\"}],\"heatmapgl\":[{\"colorbar\":{\"outlinewidth\":0,\"ticks\":\"\"},\"colorscale\":[[0.0,\"#0d0887\"],[0.1111111111111111,\"#46039f\"],[0.2222222222222222,\"#7201a8\"],[0.3333333333333333,\"#9c179e\"],[0.4444444444444444,\"#bd3786\"],[0.5555555555555556,\"#d8576b\"],[0.6666666666666666,\"#ed7953\"],[0.7777777777777778,\"#fb9f3a\"],[0.8888888888888888,\"#fdca26\"],[1.0,\"#f0f921\"]],\"type\":\"heatmapgl\"}],\"histogram\":[{\"marker\":{\"pattern\":{\"fillmode\":\"overlay\",\"size\":10,\"solidity\":0.2}},\"type\":\"histogram\"}],\"histogram2d\":[{\"colorbar\":{\"outlinewidth\":0,\"ticks\":\"\"},\"colorscale\":[[0.0,\"#0d0887\"],[0.1111111111111111,\"#46039f\"],[0.2222222222222222,\"#7201a8\"],[0.3333333333333333,\"#9c179e\"],[0.4444444444444444,\"#bd3786\"],[0.5555555555555556,\"#d8576b\"],[0.6666666666666666,\"#ed7953\"],[0.7777777777777778,\"#fb9f3a\"],[0.8888888888888888,\"#fdca26\"],[1.0,\"#f0f921\"]],\"type\":\"histogram2d\"}],\"histogram2dcontour\":[{\"colorbar\":{\"outlinewidth\":0,\"ticks\":\"\"},\"colorscale\":[[0.0,\"#0d0887\"],[0.1111111111111111,\"#46039f\"],[0.2222222222222222,\"#7201a8\"],[0.3333333333333333,\"#9c179e\"],[0.4444444444444444,\"#bd3786\"],[0.5555555555555556,\"#d8576b\"],[0.6666666666666666,\"#ed7953\"],[0.7777777777777778,\"#fb9f3a\"],[0.8888888888888888,\"#fdca26\"],[1.0,\"#f0f921\"]],\"type\":\"histogram2dcontour\"}],\"mesh3d\":[{\"colorbar\":{\"outlinewidth\":0,\"ticks\":\"\"},\"type\":\"mesh3d\"}],\"parcoords\":[{\"line\":{\"colorbar\":{\"outlinewidth\":0,\"ticks\":\"\"}},\"type\":\"parcoords\"}],\"pie\":[{\"automargin\":true,\"type\":\"pie\"}],\"scatter\":[{\"marker\":{\"colorbar\":{\"outlinewidth\":0,\"ticks\":\"\"}},\"type\":\"scatter\"}],\"scatter3d\":[{\"line\":{\"colorbar\":{\"outlinewidth\":0,\"ticks\":\"\"}},\"marker\":{\"colorbar\":{\"outlinewidth\":0,\"ticks\":\"\"}},\"type\":\"scatter3d\"}],\"scattercarpet\":[{\"marker\":{\"colorbar\":{\"outlinewidth\":0,\"ticks\":\"\"}},\"type\":\"scattercarpet\"}],\"scattergeo\":[{\"marker\":{\"colorbar\":{\"outlinewidth\":0,\"ticks\":\"\"}},\"type\":\"scattergeo\"}],\"scattergl\":[{\"marker\":{\"colorbar\":{\"outlinewidth\":0,\"ticks\":\"\"}},\"type\":\"scattergl\"}],\"scattermapbox\":[{\"marker\":{\"colorbar\":{\"outlinewidth\":0,\"ticks\":\"\"}},\"type\":\"scattermapbox\"}],\"scatterpolar\":[{\"marker\":{\"colorbar\":{\"outlinewidth\":0,\"ticks\":\"\"}},\"type\":\"scatterpolar\"}],\"scatterpolargl\":[{\"marker\":{\"colorbar\":{\"outlinewidth\":0,\"ticks\":\"\"}},\"type\":\"scatterpolargl\"}],\"scatterternary\":[{\"marker\":{\"colorbar\":{\"outlinewidth\":0,\"ticks\":\"\"}},\"type\":\"scatterternary\"}],\"surface\":[{\"colorbar\":{\"outlinewidth\":0,\"ticks\":\"\"},\"colorscale\":[[0.0,\"#0d0887\"],[0.1111111111111111,\"#46039f\"],[0.2222222222222222,\"#7201a8\"],[0.3333333333333333,\"#9c179e\"],[0.4444444444444444,\"#bd3786\"],[0.5555555555555556,\"#d8576b\"],[0.6666666666666666,\"#ed7953\"],[0.7777777777777778,\"#fb9f3a\"],[0.8888888888888888,\"#fdca26\"],[1.0,\"#f0f921\"]],\"type\":\"surface\"}],\"table\":[{\"cells\":{\"fill\":{\"color\":\"#EBF0F8\"},\"line\":{\"color\":\"white\"}},\"header\":{\"fill\":{\"color\":\"#C8D4E3\"},\"line\":{\"color\":\"white\"}},\"type\":\"table\"}]},\"layout\":{\"annotationdefaults\":{\"arrowcolor\":\"#2a3f5f\",\"arrowhead\":0,\"arrowwidth\":1},\"autotypenumbers\":\"strict\",\"coloraxis\":{\"colorbar\":{\"outlinewidth\":0,\"ticks\":\"\"}},\"colorscale\":{\"diverging\":[[0,\"#8e0152\"],[0.1,\"#c51b7d\"],[0.2,\"#de77ae\"],[0.3,\"#f1b6da\"],[0.4,\"#fde0ef\"],[0.5,\"#f7f7f7\"],[0.6,\"#e6f5d0\"],[0.7,\"#b8e186\"],[0.8,\"#7fbc41\"],[0.9,\"#4d9221\"],[1,\"#276419\"]],\"sequential\":[[0.0,\"#0d0887\"],[0.1111111111111111,\"#46039f\"],[0.2222222222222222,\"#7201a8\"],[0.3333333333333333,\"#9c179e\"],[0.4444444444444444,\"#bd3786\"],[0.5555555555555556,\"#d8576b\"],[0.6666666666666666,\"#ed7953\"],[0.7777777777777778,\"#fb9f3a\"],[0.8888888888888888,\"#fdca26\"],[1.0,\"#f0f921\"]],\"sequentialminus\":[[0.0,\"#0d0887\"],[0.1111111111111111,\"#46039f\"],[0.2222222222222222,\"#7201a8\"],[0.3333333333333333,\"#9c179e\"],[0.4444444444444444,\"#bd3786\"],[0.5555555555555556,\"#d8576b\"],[0.6666666666666666,\"#ed7953\"],[0.7777777777777778,\"#fb9f3a\"],[0.8888888888888888,\"#fdca26\"],[1.0,\"#f0f921\"]]},\"colorway\":[\"#636efa\",\"#EF553B\",\"#00cc96\",\"#ab63fa\",\"#FFA15A\",\"#19d3f3\",\"#FF6692\",\"#B6E880\",\"#FF97FF\",\"#FECB52\"],\"font\":{\"color\":\"#2a3f5f\"},\"geo\":{\"bgcolor\":\"white\",\"lakecolor\":\"white\",\"landcolor\":\"#E5ECF6\",\"showlakes\":true,\"showland\":true,\"subunitcolor\":\"white\"},\"hoverlabel\":{\"align\":\"left\"},\"hovermode\":\"closest\",\"mapbox\":{\"style\":\"light\"},\"paper_bgcolor\":\"white\",\"plot_bgcolor\":\"#E5ECF6\",\"polar\":{\"angularaxis\":{\"gridcolor\":\"white\",\"linecolor\":\"white\",\"ticks\":\"\"},\"bgcolor\":\"#E5ECF6\",\"radialaxis\":{\"gridcolor\":\"white\",\"linecolor\":\"white\",\"ticks\":\"\"}},\"scene\":{\"xaxis\":{\"backgroundcolor\":\"#E5ECF6\",\"gridcolor\":\"white\",\"gridwidth\":2,\"linecolor\":\"white\",\"showbackground\":true,\"ticks\":\"\",\"zerolinecolor\":\"white\"},\"yaxis\":{\"backgroundcolor\":\"#E5ECF6\",\"gridcolor\":\"white\",\"gridwidth\":2,\"linecolor\":\"white\",\"showbackground\":true,\"ticks\":\"\",\"zerolinecolor\":\"white\"},\"zaxis\":{\"backgroundcolor\":\"#E5ECF6\",\"gridcolor\":\"white\",\"gridwidth\":2,\"linecolor\":\"white\",\"showbackground\":true,\"ticks\":\"\",\"zerolinecolor\":\"white\"}},\"shapedefaults\":{\"line\":{\"color\":\"#2a3f5f\"}},\"ternary\":{\"aaxis\":{\"gridcolor\":\"white\",\"linecolor\":\"white\",\"ticks\":\"\"},\"baxis\":{\"gridcolor\":\"white\",\"linecolor\":\"white\",\"ticks\":\"\"},\"bgcolor\":\"#E5ECF6\",\"caxis\":{\"gridcolor\":\"white\",\"linecolor\":\"white\",\"ticks\":\"\"}},\"title\":{\"x\":0.05},\"xaxis\":{\"automargin\":true,\"gridcolor\":\"white\",\"linecolor\":\"white\",\"ticks\":\"\",\"title\":{\"standoff\":15},\"zerolinecolor\":\"white\",\"zerolinewidth\":2},\"yaxis\":{\"automargin\":true,\"gridcolor\":\"white\",\"linecolor\":\"white\",\"ticks\":\"\",\"title\":{\"standoff\":15},\"zerolinecolor\":\"white\",\"zerolinewidth\":2}}},\"legend\":{\"tracegroupgap\":0},\"title\":{\"text\":\"TOP BEST 20 COUNTRIES BY SALES\"}},                        {\"responsive\": true}                    ).then(function(){\n",
              "                            \n",
              "var gd = document.getElementById('82597f28-ee15-4830-914a-21a32175e5d8');\n",
              "var x = new MutationObserver(function (mutations, observer) {{\n",
              "        var display = window.getComputedStyle(gd).display;\n",
              "        if (!display || display === 'none') {{\n",
              "            console.log([gd, 'removed!']);\n",
              "            Plotly.purge(gd);\n",
              "            observer.disconnect();\n",
              "        }}\n",
              "}});\n",
              "\n",
              "// Listen for the removal of the full notebook cells\n",
              "var notebookContainer = gd.closest('#notebook-container');\n",
              "if (notebookContainer) {{\n",
              "    x.observe(notebookContainer, {childList: true});\n",
              "}}\n",
              "\n",
              "// Listen for the clearing of the current output cell\n",
              "var outputEl = gd.closest('.output');\n",
              "if (outputEl) {{\n",
              "    x.observe(outputEl, {childList: true});\n",
              "}}\n",
              "\n",
              "                        })                };                            </script>        </div>\n",
              "</body>\n",
              "</html>"
            ]
          },
          "metadata": {}
        }
      ]
    },
    {
      "cell_type": "markdown",
      "source": [
        "#Recommending Products\n",
        "\n",
        "Collaborative filtering, which I'm going to do in this analysis, is a method to recommend products based on previous user behaviors (viewed pages, purchased products, given ratings). The idea is to find similarities between users and products/content, and recommend the most similar products or content. For example, if one user purchased a white t-shirt, blue jeans, and a hat and the other user purchased a white t-shirt, blue jeans, and gloves, then the first user is more likely to buy gloves and the second - a hat (because of their similarities in purchasing products)."
      ],
      "metadata": {
        "id": "EGAmiczARAo-"
      }
    },
    {
      "cell_type": "markdown",
      "source": [
        "*  I need to build a customer-to-item matrix which is tabular data where each column represents each product, each row represents a customer, and values in each cell represent whether a customer purchased the given product or not."
      ],
      "metadata": {
        "id": "e2SZDr8iRRoE"
      }
    },
    {
      "cell_type": "code",
      "source": [
        "customer_item_matrix = df.pivot_table(index='CustomerID',columns='StockCode',values='Quantity',aggfunc='sum').applymap(lambda x: 1 if x>0 else 0)"
      ],
      "metadata": {
        "id": "-KI3RCStGrEc"
      },
      "execution_count": 286,
      "outputs": []
    },
    {
      "cell_type": "markdown",
      "source": [
        "**User-based vs. Item-based collaborative filtering**\n",
        "\n",
        "I will explore two approaches to building a product recommendation system:\n",
        "\n",
        "1. User-based approach - looking for similarities between users based on their product purchase history.\n",
        "\n",
        "2. Item-based approach - looking for similarities between products based on which items are often bought together with other items.\n",
        "\n",
        "Let's start with a user-based approach."
      ],
      "metadata": {
        "id": "jxipoeSjG1bN"
      }
    },
    {
      "cell_type": "markdown",
      "source": [
        "# User Based collaborative filtering"
      ],
      "metadata": {
        "id": "KZGUUxbdZu3m"
      }
    },
    {
      "cell_type": "code",
      "source": [
        "customer_item_matrix.head()"
      ],
      "metadata": {
        "colab": {
          "base_uri": "https://localhost:8080/",
          "height": 345
        },
        "id": "3ud7yqTLR604",
        "outputId": "954d91dd-2b75-4b0c-8e3d-7a8f7c261ae8"
      },
      "execution_count": 287,
      "outputs": [
        {
          "output_type": "execute_result",
          "data": {
            "text/plain": [
              "StockCode   10002  10080  10120  10123C  10124A  10124G  10125  10133  10135  \\\n",
              "CustomerID                                                                     \n",
              "12346.0         0      0      0       0       0       0      0      0      0   \n",
              "12347.0         0      0      0       0       0       0      0      0      0   \n",
              "12348.0         0      0      0       0       0       0      0      0      0   \n",
              "12349.0         0      0      0       0       0       0      0      0      0   \n",
              "12350.0         0      0      0       0       0       0      0      0      0   \n",
              "\n",
              "StockCode   11001  ...  90214R  90214S  90214V  90214Y  BANK CHARGES  C2  DOT  \\\n",
              "CustomerID         ...                                                          \n",
              "12346.0         0  ...       0       0       0       0             0   0    0   \n",
              "12347.0         0  ...       0       0       0       0             0   0    0   \n",
              "12348.0         0  ...       0       0       0       0             0   0    0   \n",
              "12349.0         0  ...       0       0       0       0             0   0    0   \n",
              "12350.0         0  ...       0       0       0       0             0   0    0   \n",
              "\n",
              "StockCode   M  PADS  POST  \n",
              "CustomerID                 \n",
              "12346.0     0     0     0  \n",
              "12347.0     0     0     0  \n",
              "12348.0     0     0     1  \n",
              "12349.0     0     0     1  \n",
              "12350.0     0     0     1  \n",
              "\n",
              "[5 rows x 3657 columns]"
            ],
            "text/html": [
              "\n",
              "  <div id=\"df-6aef4759-b8dd-48af-9304-a5e86ddf4e64\">\n",
              "    <div class=\"colab-df-container\">\n",
              "      <div>\n",
              "<style scoped>\n",
              "    .dataframe tbody tr th:only-of-type {\n",
              "        vertical-align: middle;\n",
              "    }\n",
              "\n",
              "    .dataframe tbody tr th {\n",
              "        vertical-align: top;\n",
              "    }\n",
              "\n",
              "    .dataframe thead th {\n",
              "        text-align: right;\n",
              "    }\n",
              "</style>\n",
              "<table border=\"1\" class=\"dataframe\">\n",
              "  <thead>\n",
              "    <tr style=\"text-align: right;\">\n",
              "      <th>StockCode</th>\n",
              "      <th>10002</th>\n",
              "      <th>10080</th>\n",
              "      <th>10120</th>\n",
              "      <th>10123C</th>\n",
              "      <th>10124A</th>\n",
              "      <th>10124G</th>\n",
              "      <th>10125</th>\n",
              "      <th>10133</th>\n",
              "      <th>10135</th>\n",
              "      <th>11001</th>\n",
              "      <th>...</th>\n",
              "      <th>90214R</th>\n",
              "      <th>90214S</th>\n",
              "      <th>90214V</th>\n",
              "      <th>90214Y</th>\n",
              "      <th>BANK CHARGES</th>\n",
              "      <th>C2</th>\n",
              "      <th>DOT</th>\n",
              "      <th>M</th>\n",
              "      <th>PADS</th>\n",
              "      <th>POST</th>\n",
              "    </tr>\n",
              "    <tr>\n",
              "      <th>CustomerID</th>\n",
              "      <th></th>\n",
              "      <th></th>\n",
              "      <th></th>\n",
              "      <th></th>\n",
              "      <th></th>\n",
              "      <th></th>\n",
              "      <th></th>\n",
              "      <th></th>\n",
              "      <th></th>\n",
              "      <th></th>\n",
              "      <th></th>\n",
              "      <th></th>\n",
              "      <th></th>\n",
              "      <th></th>\n",
              "      <th></th>\n",
              "      <th></th>\n",
              "      <th></th>\n",
              "      <th></th>\n",
              "      <th></th>\n",
              "      <th></th>\n",
              "      <th></th>\n",
              "    </tr>\n",
              "  </thead>\n",
              "  <tbody>\n",
              "    <tr>\n",
              "      <th>12346.0</th>\n",
              "      <td>0</td>\n",
              "      <td>0</td>\n",
              "      <td>0</td>\n",
              "      <td>0</td>\n",
              "      <td>0</td>\n",
              "      <td>0</td>\n",
              "      <td>0</td>\n",
              "      <td>0</td>\n",
              "      <td>0</td>\n",
              "      <td>0</td>\n",
              "      <td>...</td>\n",
              "      <td>0</td>\n",
              "      <td>0</td>\n",
              "      <td>0</td>\n",
              "      <td>0</td>\n",
              "      <td>0</td>\n",
              "      <td>0</td>\n",
              "      <td>0</td>\n",
              "      <td>0</td>\n",
              "      <td>0</td>\n",
              "      <td>0</td>\n",
              "    </tr>\n",
              "    <tr>\n",
              "      <th>12347.0</th>\n",
              "      <td>0</td>\n",
              "      <td>0</td>\n",
              "      <td>0</td>\n",
              "      <td>0</td>\n",
              "      <td>0</td>\n",
              "      <td>0</td>\n",
              "      <td>0</td>\n",
              "      <td>0</td>\n",
              "      <td>0</td>\n",
              "      <td>0</td>\n",
              "      <td>...</td>\n",
              "      <td>0</td>\n",
              "      <td>0</td>\n",
              "      <td>0</td>\n",
              "      <td>0</td>\n",
              "      <td>0</td>\n",
              "      <td>0</td>\n",
              "      <td>0</td>\n",
              "      <td>0</td>\n",
              "      <td>0</td>\n",
              "      <td>0</td>\n",
              "    </tr>\n",
              "    <tr>\n",
              "      <th>12348.0</th>\n",
              "      <td>0</td>\n",
              "      <td>0</td>\n",
              "      <td>0</td>\n",
              "      <td>0</td>\n",
              "      <td>0</td>\n",
              "      <td>0</td>\n",
              "      <td>0</td>\n",
              "      <td>0</td>\n",
              "      <td>0</td>\n",
              "      <td>0</td>\n",
              "      <td>...</td>\n",
              "      <td>0</td>\n",
              "      <td>0</td>\n",
              "      <td>0</td>\n",
              "      <td>0</td>\n",
              "      <td>0</td>\n",
              "      <td>0</td>\n",
              "      <td>0</td>\n",
              "      <td>0</td>\n",
              "      <td>0</td>\n",
              "      <td>1</td>\n",
              "    </tr>\n",
              "    <tr>\n",
              "      <th>12349.0</th>\n",
              "      <td>0</td>\n",
              "      <td>0</td>\n",
              "      <td>0</td>\n",
              "      <td>0</td>\n",
              "      <td>0</td>\n",
              "      <td>0</td>\n",
              "      <td>0</td>\n",
              "      <td>0</td>\n",
              "      <td>0</td>\n",
              "      <td>0</td>\n",
              "      <td>...</td>\n",
              "      <td>0</td>\n",
              "      <td>0</td>\n",
              "      <td>0</td>\n",
              "      <td>0</td>\n",
              "      <td>0</td>\n",
              "      <td>0</td>\n",
              "      <td>0</td>\n",
              "      <td>0</td>\n",
              "      <td>0</td>\n",
              "      <td>1</td>\n",
              "    </tr>\n",
              "    <tr>\n",
              "      <th>12350.0</th>\n",
              "      <td>0</td>\n",
              "      <td>0</td>\n",
              "      <td>0</td>\n",
              "      <td>0</td>\n",
              "      <td>0</td>\n",
              "      <td>0</td>\n",
              "      <td>0</td>\n",
              "      <td>0</td>\n",
              "      <td>0</td>\n",
              "      <td>0</td>\n",
              "      <td>...</td>\n",
              "      <td>0</td>\n",
              "      <td>0</td>\n",
              "      <td>0</td>\n",
              "      <td>0</td>\n",
              "      <td>0</td>\n",
              "      <td>0</td>\n",
              "      <td>0</td>\n",
              "      <td>0</td>\n",
              "      <td>0</td>\n",
              "      <td>1</td>\n",
              "    </tr>\n",
              "  </tbody>\n",
              "</table>\n",
              "<p>5 rows × 3657 columns</p>\n",
              "</div>\n",
              "      <button class=\"colab-df-convert\" onclick=\"convertToInteractive('df-6aef4759-b8dd-48af-9304-a5e86ddf4e64')\"\n",
              "              title=\"Convert this dataframe to an interactive table.\"\n",
              "              style=\"display:none;\">\n",
              "        \n",
              "  <svg xmlns=\"http://www.w3.org/2000/svg\" height=\"24px\"viewBox=\"0 0 24 24\"\n",
              "       width=\"24px\">\n",
              "    <path d=\"M0 0h24v24H0V0z\" fill=\"none\"/>\n",
              "    <path d=\"M18.56 5.44l.94 2.06.94-2.06 2.06-.94-2.06-.94-.94-2.06-.94 2.06-2.06.94zm-11 1L8.5 8.5l.94-2.06 2.06-.94-2.06-.94L8.5 2.5l-.94 2.06-2.06.94zm10 10l.94 2.06.94-2.06 2.06-.94-2.06-.94-.94-2.06-.94 2.06-2.06.94z\"/><path d=\"M17.41 7.96l-1.37-1.37c-.4-.4-.92-.59-1.43-.59-.52 0-1.04.2-1.43.59L10.3 9.45l-7.72 7.72c-.78.78-.78 2.05 0 2.83L4 21.41c.39.39.9.59 1.41.59.51 0 1.02-.2 1.41-.59l7.78-7.78 2.81-2.81c.8-.78.8-2.07 0-2.86zM5.41 20L4 18.59l7.72-7.72 1.47 1.35L5.41 20z\"/>\n",
              "  </svg>\n",
              "      </button>\n",
              "      \n",
              "  <style>\n",
              "    .colab-df-container {\n",
              "      display:flex;\n",
              "      flex-wrap:wrap;\n",
              "      gap: 12px;\n",
              "    }\n",
              "\n",
              "    .colab-df-convert {\n",
              "      background-color: #E8F0FE;\n",
              "      border: none;\n",
              "      border-radius: 50%;\n",
              "      cursor: pointer;\n",
              "      display: none;\n",
              "      fill: #1967D2;\n",
              "      height: 32px;\n",
              "      padding: 0 0 0 0;\n",
              "      width: 32px;\n",
              "    }\n",
              "\n",
              "    .colab-df-convert:hover {\n",
              "      background-color: #E2EBFA;\n",
              "      box-shadow: 0px 1px 2px rgba(60, 64, 67, 0.3), 0px 1px 3px 1px rgba(60, 64, 67, 0.15);\n",
              "      fill: #174EA6;\n",
              "    }\n",
              "\n",
              "    [theme=dark] .colab-df-convert {\n",
              "      background-color: #3B4455;\n",
              "      fill: #D2E3FC;\n",
              "    }\n",
              "\n",
              "    [theme=dark] .colab-df-convert:hover {\n",
              "      background-color: #434B5C;\n",
              "      box-shadow: 0px 1px 3px 1px rgba(0, 0, 0, 0.15);\n",
              "      filter: drop-shadow(0px 1px 2px rgba(0, 0, 0, 0.3));\n",
              "      fill: #FFFFFF;\n",
              "    }\n",
              "  </style>\n",
              "\n",
              "      <script>\n",
              "        const buttonEl =\n",
              "          document.querySelector('#df-6aef4759-b8dd-48af-9304-a5e86ddf4e64 button.colab-df-convert');\n",
              "        buttonEl.style.display =\n",
              "          google.colab.kernel.accessAllowed ? 'block' : 'none';\n",
              "\n",
              "        async function convertToInteractive(key) {\n",
              "          const element = document.querySelector('#df-6aef4759-b8dd-48af-9304-a5e86ddf4e64');\n",
              "          const dataTable =\n",
              "            await google.colab.kernel.invokeFunction('convertToInteractive',\n",
              "                                                     [key], {});\n",
              "          if (!dataTable) return;\n",
              "\n",
              "          const docLinkHtml = 'Like what you see? Visit the ' +\n",
              "            '<a target=\"_blank\" href=https://colab.research.google.com/notebooks/data_table.ipynb>data table notebook</a>'\n",
              "            + ' to learn more about interactive tables.';\n",
              "          element.innerHTML = '';\n",
              "          dataTable['output_type'] = 'display_data';\n",
              "          await google.colab.output.renderOutput(dataTable, element);\n",
              "          const docLink = document.createElement('div');\n",
              "          docLink.innerHTML = docLinkHtml;\n",
              "          element.appendChild(docLink);\n",
              "        }\n",
              "      </script>\n",
              "    </div>\n",
              "  </div>\n",
              "  "
            ]
          },
          "metadata": {},
          "execution_count": 287
        }
      ]
    },
    {
      "cell_type": "markdown",
      "source": [
        "* This it the customer-item matrix that I created on the previous step. It shows whether the given customer bought (1) or not(0) the given product. What I need to do now is to compute cosine similarities between customers."
      ],
      "metadata": {
        "id": "ZHlEQymgR_Pf"
      }
    },
    {
      "cell_type": "code",
      "source": [
        "from sklearn.metrics.pairwise import cosine_similarity\n",
        "user_to_user_sim_matrix = pd.DataFrame(cosine_similarity(customer_item_matrix))\n",
        "user_to_user_sim_matrix.head()"
      ],
      "metadata": {
        "id": "WmZYz8M1J2Gl",
        "colab": {
          "base_uri": "https://localhost:8080/",
          "height": 297
        },
        "outputId": "4427eae4-ce93-4aa3-8757-7765b89105d9"
      },
      "execution_count": 288,
      "outputs": [
        {
          "output_type": "execute_result",
          "data": {
            "text/plain": [
              "   0         1         2         3         4         5     6         7     \\\n",
              "0   1.0  0.000000  0.000000  0.000000  0.000000  0.000000   0.0  0.000000   \n",
              "1   0.0  1.000000  0.063960  0.035112  0.048507  0.039057   0.0  0.026261   \n",
              "2   0.0  0.063960  1.000000  0.024953  0.051709  0.027756   0.0  0.027995   \n",
              "3   0.0  0.035112  0.024953  1.000000  0.056773  0.137137   0.0  0.030737   \n",
              "4   0.0  0.048507  0.051709  0.056773  1.000000  0.031575   0.0  0.000000   \n",
              "\n",
              "       8         9     ...  4288      4289      4290  4291      4292  \\\n",
              "0  0.000000  0.000000  ...   0.0  0.000000  0.000000   0.0  0.000000   \n",
              "1  0.138675  0.096152  ...   0.0  0.030151  0.053452   0.0  0.033333   \n",
              "2  0.118262  0.146427  ...   0.0  0.064282  0.113961   0.0  0.000000   \n",
              "3  0.032461  0.144692  ...   0.0  0.105868  0.000000   0.0  0.039014   \n",
              "4  0.000000  0.033315  ...   0.0  0.000000  0.000000   0.0  0.000000   \n",
              "\n",
              "       4293  4294      4295      4296      4297  \n",
              "0  0.000000   0.0  0.000000  0.000000  0.000000  \n",
              "1  0.063246   0.0  0.000000  0.111847  0.013019  \n",
              "2  0.000000   0.0  0.000000  0.158972  0.083269  \n",
              "3  0.000000   0.0  0.044237  0.138179  0.030475  \n",
              "4  0.000000   0.0  0.000000  0.045211  0.000000  \n",
              "\n",
              "[5 rows x 4298 columns]"
            ],
            "text/html": [
              "\n",
              "  <div id=\"df-e2873d12-7a15-40bb-a044-8dc491d8d70e\">\n",
              "    <div class=\"colab-df-container\">\n",
              "      <div>\n",
              "<style scoped>\n",
              "    .dataframe tbody tr th:only-of-type {\n",
              "        vertical-align: middle;\n",
              "    }\n",
              "\n",
              "    .dataframe tbody tr th {\n",
              "        vertical-align: top;\n",
              "    }\n",
              "\n",
              "    .dataframe thead th {\n",
              "        text-align: right;\n",
              "    }\n",
              "</style>\n",
              "<table border=\"1\" class=\"dataframe\">\n",
              "  <thead>\n",
              "    <tr style=\"text-align: right;\">\n",
              "      <th></th>\n",
              "      <th>0</th>\n",
              "      <th>1</th>\n",
              "      <th>2</th>\n",
              "      <th>3</th>\n",
              "      <th>4</th>\n",
              "      <th>5</th>\n",
              "      <th>6</th>\n",
              "      <th>7</th>\n",
              "      <th>8</th>\n",
              "      <th>9</th>\n",
              "      <th>...</th>\n",
              "      <th>4288</th>\n",
              "      <th>4289</th>\n",
              "      <th>4290</th>\n",
              "      <th>4291</th>\n",
              "      <th>4292</th>\n",
              "      <th>4293</th>\n",
              "      <th>4294</th>\n",
              "      <th>4295</th>\n",
              "      <th>4296</th>\n",
              "      <th>4297</th>\n",
              "    </tr>\n",
              "  </thead>\n",
              "  <tbody>\n",
              "    <tr>\n",
              "      <th>0</th>\n",
              "      <td>1.0</td>\n",
              "      <td>0.000000</td>\n",
              "      <td>0.000000</td>\n",
              "      <td>0.000000</td>\n",
              "      <td>0.000000</td>\n",
              "      <td>0.000000</td>\n",
              "      <td>0.0</td>\n",
              "      <td>0.000000</td>\n",
              "      <td>0.000000</td>\n",
              "      <td>0.000000</td>\n",
              "      <td>...</td>\n",
              "      <td>0.0</td>\n",
              "      <td>0.000000</td>\n",
              "      <td>0.000000</td>\n",
              "      <td>0.0</td>\n",
              "      <td>0.000000</td>\n",
              "      <td>0.000000</td>\n",
              "      <td>0.0</td>\n",
              "      <td>0.000000</td>\n",
              "      <td>0.000000</td>\n",
              "      <td>0.000000</td>\n",
              "    </tr>\n",
              "    <tr>\n",
              "      <th>1</th>\n",
              "      <td>0.0</td>\n",
              "      <td>1.000000</td>\n",
              "      <td>0.063960</td>\n",
              "      <td>0.035112</td>\n",
              "      <td>0.048507</td>\n",
              "      <td>0.039057</td>\n",
              "      <td>0.0</td>\n",
              "      <td>0.026261</td>\n",
              "      <td>0.138675</td>\n",
              "      <td>0.096152</td>\n",
              "      <td>...</td>\n",
              "      <td>0.0</td>\n",
              "      <td>0.030151</td>\n",
              "      <td>0.053452</td>\n",
              "      <td>0.0</td>\n",
              "      <td>0.033333</td>\n",
              "      <td>0.063246</td>\n",
              "      <td>0.0</td>\n",
              "      <td>0.000000</td>\n",
              "      <td>0.111847</td>\n",
              "      <td>0.013019</td>\n",
              "    </tr>\n",
              "    <tr>\n",
              "      <th>2</th>\n",
              "      <td>0.0</td>\n",
              "      <td>0.063960</td>\n",
              "      <td>1.000000</td>\n",
              "      <td>0.024953</td>\n",
              "      <td>0.051709</td>\n",
              "      <td>0.027756</td>\n",
              "      <td>0.0</td>\n",
              "      <td>0.027995</td>\n",
              "      <td>0.118262</td>\n",
              "      <td>0.146427</td>\n",
              "      <td>...</td>\n",
              "      <td>0.0</td>\n",
              "      <td>0.064282</td>\n",
              "      <td>0.113961</td>\n",
              "      <td>0.0</td>\n",
              "      <td>0.000000</td>\n",
              "      <td>0.000000</td>\n",
              "      <td>0.0</td>\n",
              "      <td>0.000000</td>\n",
              "      <td>0.158972</td>\n",
              "      <td>0.083269</td>\n",
              "    </tr>\n",
              "    <tr>\n",
              "      <th>3</th>\n",
              "      <td>0.0</td>\n",
              "      <td>0.035112</td>\n",
              "      <td>0.024953</td>\n",
              "      <td>1.000000</td>\n",
              "      <td>0.056773</td>\n",
              "      <td>0.137137</td>\n",
              "      <td>0.0</td>\n",
              "      <td>0.030737</td>\n",
              "      <td>0.032461</td>\n",
              "      <td>0.144692</td>\n",
              "      <td>...</td>\n",
              "      <td>0.0</td>\n",
              "      <td>0.105868</td>\n",
              "      <td>0.000000</td>\n",
              "      <td>0.0</td>\n",
              "      <td>0.039014</td>\n",
              "      <td>0.000000</td>\n",
              "      <td>0.0</td>\n",
              "      <td>0.044237</td>\n",
              "      <td>0.138179</td>\n",
              "      <td>0.030475</td>\n",
              "    </tr>\n",
              "    <tr>\n",
              "      <th>4</th>\n",
              "      <td>0.0</td>\n",
              "      <td>0.048507</td>\n",
              "      <td>0.051709</td>\n",
              "      <td>0.056773</td>\n",
              "      <td>1.000000</td>\n",
              "      <td>0.031575</td>\n",
              "      <td>0.0</td>\n",
              "      <td>0.000000</td>\n",
              "      <td>0.000000</td>\n",
              "      <td>0.033315</td>\n",
              "      <td>...</td>\n",
              "      <td>0.0</td>\n",
              "      <td>0.000000</td>\n",
              "      <td>0.000000</td>\n",
              "      <td>0.0</td>\n",
              "      <td>0.000000</td>\n",
              "      <td>0.000000</td>\n",
              "      <td>0.0</td>\n",
              "      <td>0.000000</td>\n",
              "      <td>0.045211</td>\n",
              "      <td>0.000000</td>\n",
              "    </tr>\n",
              "  </tbody>\n",
              "</table>\n",
              "<p>5 rows × 4298 columns</p>\n",
              "</div>\n",
              "      <button class=\"colab-df-convert\" onclick=\"convertToInteractive('df-e2873d12-7a15-40bb-a044-8dc491d8d70e')\"\n",
              "              title=\"Convert this dataframe to an interactive table.\"\n",
              "              style=\"display:none;\">\n",
              "        \n",
              "  <svg xmlns=\"http://www.w3.org/2000/svg\" height=\"24px\"viewBox=\"0 0 24 24\"\n",
              "       width=\"24px\">\n",
              "    <path d=\"M0 0h24v24H0V0z\" fill=\"none\"/>\n",
              "    <path d=\"M18.56 5.44l.94 2.06.94-2.06 2.06-.94-2.06-.94-.94-2.06-.94 2.06-2.06.94zm-11 1L8.5 8.5l.94-2.06 2.06-.94-2.06-.94L8.5 2.5l-.94 2.06-2.06.94zm10 10l.94 2.06.94-2.06 2.06-.94-2.06-.94-.94-2.06-.94 2.06-2.06.94z\"/><path d=\"M17.41 7.96l-1.37-1.37c-.4-.4-.92-.59-1.43-.59-.52 0-1.04.2-1.43.59L10.3 9.45l-7.72 7.72c-.78.78-.78 2.05 0 2.83L4 21.41c.39.39.9.59 1.41.59.51 0 1.02-.2 1.41-.59l7.78-7.78 2.81-2.81c.8-.78.8-2.07 0-2.86zM5.41 20L4 18.59l7.72-7.72 1.47 1.35L5.41 20z\"/>\n",
              "  </svg>\n",
              "      </button>\n",
              "      \n",
              "  <style>\n",
              "    .colab-df-container {\n",
              "      display:flex;\n",
              "      flex-wrap:wrap;\n",
              "      gap: 12px;\n",
              "    }\n",
              "\n",
              "    .colab-df-convert {\n",
              "      background-color: #E8F0FE;\n",
              "      border: none;\n",
              "      border-radius: 50%;\n",
              "      cursor: pointer;\n",
              "      display: none;\n",
              "      fill: #1967D2;\n",
              "      height: 32px;\n",
              "      padding: 0 0 0 0;\n",
              "      width: 32px;\n",
              "    }\n",
              "\n",
              "    .colab-df-convert:hover {\n",
              "      background-color: #E2EBFA;\n",
              "      box-shadow: 0px 1px 2px rgba(60, 64, 67, 0.3), 0px 1px 3px 1px rgba(60, 64, 67, 0.15);\n",
              "      fill: #174EA6;\n",
              "    }\n",
              "\n",
              "    [theme=dark] .colab-df-convert {\n",
              "      background-color: #3B4455;\n",
              "      fill: #D2E3FC;\n",
              "    }\n",
              "\n",
              "    [theme=dark] .colab-df-convert:hover {\n",
              "      background-color: #434B5C;\n",
              "      box-shadow: 0px 1px 3px 1px rgba(0, 0, 0, 0.15);\n",
              "      filter: drop-shadow(0px 1px 2px rgba(0, 0, 0, 0.3));\n",
              "      fill: #FFFFFF;\n",
              "    }\n",
              "  </style>\n",
              "\n",
              "      <script>\n",
              "        const buttonEl =\n",
              "          document.querySelector('#df-e2873d12-7a15-40bb-a044-8dc491d8d70e button.colab-df-convert');\n",
              "        buttonEl.style.display =\n",
              "          google.colab.kernel.accessAllowed ? 'block' : 'none';\n",
              "\n",
              "        async function convertToInteractive(key) {\n",
              "          const element = document.querySelector('#df-e2873d12-7a15-40bb-a044-8dc491d8d70e');\n",
              "          const dataTable =\n",
              "            await google.colab.kernel.invokeFunction('convertToInteractive',\n",
              "                                                     [key], {});\n",
              "          if (!dataTable) return;\n",
              "\n",
              "          const docLinkHtml = 'Like what you see? Visit the ' +\n",
              "            '<a target=\"_blank\" href=https://colab.research.google.com/notebooks/data_table.ipynb>data table notebook</a>'\n",
              "            + ' to learn more about interactive tables.';\n",
              "          element.innerHTML = '';\n",
              "          dataTable['output_type'] = 'display_data';\n",
              "          await google.colab.output.renderOutput(dataTable, element);\n",
              "          const docLink = document.createElement('div');\n",
              "          docLink.innerHTML = docLinkHtml;\n",
              "          element.appendChild(docLink);\n",
              "        }\n",
              "      </script>\n",
              "    </div>\n",
              "  </div>\n",
              "  "
            ]
          },
          "metadata": {},
          "execution_count": 288
        }
      ]
    },
    {
      "cell_type": "code",
      "source": [
        "user_to_user_sim_matrix.columns = customer_item_matrix.index\n",
        "user_to_user_sim_matrix['CustomerID'] = customer_item_matrix.index\n",
        "user_to_user_sim_matrix = user_to_user_sim_matrix.set_index('CustomerID')\n",
        "user_to_user_sim_matrix.head()"
      ],
      "metadata": {
        "colab": {
          "base_uri": "https://localhost:8080/",
          "height": 328
        },
        "id": "mSAg0sejKIyq",
        "outputId": "7489e5f4-d2d8-41d2-8f3e-2ee711f6fe3b"
      },
      "execution_count": 289,
      "outputs": [
        {
          "output_type": "execute_result",
          "data": {
            "text/plain": [
              "CustomerID  12346.0   12347.0   12348.0   12349.0   12350.0   12352.0  \\\n",
              "CustomerID                                                              \n",
              "12346.0         1.0  0.000000  0.000000  0.000000  0.000000  0.000000   \n",
              "12347.0         0.0  1.000000  0.063960  0.035112  0.048507  0.039057   \n",
              "12348.0         0.0  0.063960  1.000000  0.024953  0.051709  0.027756   \n",
              "12349.0         0.0  0.035112  0.024953  1.000000  0.056773  0.137137   \n",
              "12350.0         0.0  0.048507  0.051709  0.056773  1.000000  0.031575   \n",
              "\n",
              "CustomerID  12353.0   12354.0   12355.0   12356.0  ...  18273.0   18274.0  \\\n",
              "CustomerID                                         ...                      \n",
              "12346.0         0.0  0.000000  0.000000  0.000000  ...      0.0  0.000000   \n",
              "12347.0         0.0  0.026261  0.138675  0.096152  ...      0.0  0.030151   \n",
              "12348.0         0.0  0.027995  0.118262  0.146427  ...      0.0  0.064282   \n",
              "12349.0         0.0  0.030737  0.032461  0.144692  ...      0.0  0.105868   \n",
              "12350.0         0.0  0.000000  0.000000  0.033315  ...      0.0  0.000000   \n",
              "\n",
              "CustomerID   18276.0  18277.0   18278.0   18280.0  18281.0   18282.0  \\\n",
              "CustomerID                                                             \n",
              "12346.0     0.000000      0.0  0.000000  0.000000      0.0  0.000000   \n",
              "12347.0     0.053452      0.0  0.033333  0.063246      0.0  0.000000   \n",
              "12348.0     0.113961      0.0  0.000000  0.000000      0.0  0.000000   \n",
              "12349.0     0.000000      0.0  0.039014  0.000000      0.0  0.044237   \n",
              "12350.0     0.000000      0.0  0.000000  0.000000      0.0  0.000000   \n",
              "\n",
              "CustomerID   18283.0   18287.0  \n",
              "CustomerID                      \n",
              "12346.0     0.000000  0.000000  \n",
              "12347.0     0.111847  0.013019  \n",
              "12348.0     0.158972  0.083269  \n",
              "12349.0     0.138179  0.030475  \n",
              "12350.0     0.045211  0.000000  \n",
              "\n",
              "[5 rows x 4298 columns]"
            ],
            "text/html": [
              "\n",
              "  <div id=\"df-d9f83f56-dcfc-4e37-b387-799fa7c9c8bb\">\n",
              "    <div class=\"colab-df-container\">\n",
              "      <div>\n",
              "<style scoped>\n",
              "    .dataframe tbody tr th:only-of-type {\n",
              "        vertical-align: middle;\n",
              "    }\n",
              "\n",
              "    .dataframe tbody tr th {\n",
              "        vertical-align: top;\n",
              "    }\n",
              "\n",
              "    .dataframe thead th {\n",
              "        text-align: right;\n",
              "    }\n",
              "</style>\n",
              "<table border=\"1\" class=\"dataframe\">\n",
              "  <thead>\n",
              "    <tr style=\"text-align: right;\">\n",
              "      <th>CustomerID</th>\n",
              "      <th>12346.0</th>\n",
              "      <th>12347.0</th>\n",
              "      <th>12348.0</th>\n",
              "      <th>12349.0</th>\n",
              "      <th>12350.0</th>\n",
              "      <th>12352.0</th>\n",
              "      <th>12353.0</th>\n",
              "      <th>12354.0</th>\n",
              "      <th>12355.0</th>\n",
              "      <th>12356.0</th>\n",
              "      <th>...</th>\n",
              "      <th>18273.0</th>\n",
              "      <th>18274.0</th>\n",
              "      <th>18276.0</th>\n",
              "      <th>18277.0</th>\n",
              "      <th>18278.0</th>\n",
              "      <th>18280.0</th>\n",
              "      <th>18281.0</th>\n",
              "      <th>18282.0</th>\n",
              "      <th>18283.0</th>\n",
              "      <th>18287.0</th>\n",
              "    </tr>\n",
              "    <tr>\n",
              "      <th>CustomerID</th>\n",
              "      <th></th>\n",
              "      <th></th>\n",
              "      <th></th>\n",
              "      <th></th>\n",
              "      <th></th>\n",
              "      <th></th>\n",
              "      <th></th>\n",
              "      <th></th>\n",
              "      <th></th>\n",
              "      <th></th>\n",
              "      <th></th>\n",
              "      <th></th>\n",
              "      <th></th>\n",
              "      <th></th>\n",
              "      <th></th>\n",
              "      <th></th>\n",
              "      <th></th>\n",
              "      <th></th>\n",
              "      <th></th>\n",
              "      <th></th>\n",
              "      <th></th>\n",
              "    </tr>\n",
              "  </thead>\n",
              "  <tbody>\n",
              "    <tr>\n",
              "      <th>12346.0</th>\n",
              "      <td>1.0</td>\n",
              "      <td>0.000000</td>\n",
              "      <td>0.000000</td>\n",
              "      <td>0.000000</td>\n",
              "      <td>0.000000</td>\n",
              "      <td>0.000000</td>\n",
              "      <td>0.0</td>\n",
              "      <td>0.000000</td>\n",
              "      <td>0.000000</td>\n",
              "      <td>0.000000</td>\n",
              "      <td>...</td>\n",
              "      <td>0.0</td>\n",
              "      <td>0.000000</td>\n",
              "      <td>0.000000</td>\n",
              "      <td>0.0</td>\n",
              "      <td>0.000000</td>\n",
              "      <td>0.000000</td>\n",
              "      <td>0.0</td>\n",
              "      <td>0.000000</td>\n",
              "      <td>0.000000</td>\n",
              "      <td>0.000000</td>\n",
              "    </tr>\n",
              "    <tr>\n",
              "      <th>12347.0</th>\n",
              "      <td>0.0</td>\n",
              "      <td>1.000000</td>\n",
              "      <td>0.063960</td>\n",
              "      <td>0.035112</td>\n",
              "      <td>0.048507</td>\n",
              "      <td>0.039057</td>\n",
              "      <td>0.0</td>\n",
              "      <td>0.026261</td>\n",
              "      <td>0.138675</td>\n",
              "      <td>0.096152</td>\n",
              "      <td>...</td>\n",
              "      <td>0.0</td>\n",
              "      <td>0.030151</td>\n",
              "      <td>0.053452</td>\n",
              "      <td>0.0</td>\n",
              "      <td>0.033333</td>\n",
              "      <td>0.063246</td>\n",
              "      <td>0.0</td>\n",
              "      <td>0.000000</td>\n",
              "      <td>0.111847</td>\n",
              "      <td>0.013019</td>\n",
              "    </tr>\n",
              "    <tr>\n",
              "      <th>12348.0</th>\n",
              "      <td>0.0</td>\n",
              "      <td>0.063960</td>\n",
              "      <td>1.000000</td>\n",
              "      <td>0.024953</td>\n",
              "      <td>0.051709</td>\n",
              "      <td>0.027756</td>\n",
              "      <td>0.0</td>\n",
              "      <td>0.027995</td>\n",
              "      <td>0.118262</td>\n",
              "      <td>0.146427</td>\n",
              "      <td>...</td>\n",
              "      <td>0.0</td>\n",
              "      <td>0.064282</td>\n",
              "      <td>0.113961</td>\n",
              "      <td>0.0</td>\n",
              "      <td>0.000000</td>\n",
              "      <td>0.000000</td>\n",
              "      <td>0.0</td>\n",
              "      <td>0.000000</td>\n",
              "      <td>0.158972</td>\n",
              "      <td>0.083269</td>\n",
              "    </tr>\n",
              "    <tr>\n",
              "      <th>12349.0</th>\n",
              "      <td>0.0</td>\n",
              "      <td>0.035112</td>\n",
              "      <td>0.024953</td>\n",
              "      <td>1.000000</td>\n",
              "      <td>0.056773</td>\n",
              "      <td>0.137137</td>\n",
              "      <td>0.0</td>\n",
              "      <td>0.030737</td>\n",
              "      <td>0.032461</td>\n",
              "      <td>0.144692</td>\n",
              "      <td>...</td>\n",
              "      <td>0.0</td>\n",
              "      <td>0.105868</td>\n",
              "      <td>0.000000</td>\n",
              "      <td>0.0</td>\n",
              "      <td>0.039014</td>\n",
              "      <td>0.000000</td>\n",
              "      <td>0.0</td>\n",
              "      <td>0.044237</td>\n",
              "      <td>0.138179</td>\n",
              "      <td>0.030475</td>\n",
              "    </tr>\n",
              "    <tr>\n",
              "      <th>12350.0</th>\n",
              "      <td>0.0</td>\n",
              "      <td>0.048507</td>\n",
              "      <td>0.051709</td>\n",
              "      <td>0.056773</td>\n",
              "      <td>1.000000</td>\n",
              "      <td>0.031575</td>\n",
              "      <td>0.0</td>\n",
              "      <td>0.000000</td>\n",
              "      <td>0.000000</td>\n",
              "      <td>0.033315</td>\n",
              "      <td>...</td>\n",
              "      <td>0.0</td>\n",
              "      <td>0.000000</td>\n",
              "      <td>0.000000</td>\n",
              "      <td>0.0</td>\n",
              "      <td>0.000000</td>\n",
              "      <td>0.000000</td>\n",
              "      <td>0.0</td>\n",
              "      <td>0.000000</td>\n",
              "      <td>0.045211</td>\n",
              "      <td>0.000000</td>\n",
              "    </tr>\n",
              "  </tbody>\n",
              "</table>\n",
              "<p>5 rows × 4298 columns</p>\n",
              "</div>\n",
              "      <button class=\"colab-df-convert\" onclick=\"convertToInteractive('df-d9f83f56-dcfc-4e37-b387-799fa7c9c8bb')\"\n",
              "              title=\"Convert this dataframe to an interactive table.\"\n",
              "              style=\"display:none;\">\n",
              "        \n",
              "  <svg xmlns=\"http://www.w3.org/2000/svg\" height=\"24px\"viewBox=\"0 0 24 24\"\n",
              "       width=\"24px\">\n",
              "    <path d=\"M0 0h24v24H0V0z\" fill=\"none\"/>\n",
              "    <path d=\"M18.56 5.44l.94 2.06.94-2.06 2.06-.94-2.06-.94-.94-2.06-.94 2.06-2.06.94zm-11 1L8.5 8.5l.94-2.06 2.06-.94-2.06-.94L8.5 2.5l-.94 2.06-2.06.94zm10 10l.94 2.06.94-2.06 2.06-.94-2.06-.94-.94-2.06-.94 2.06-2.06.94z\"/><path d=\"M17.41 7.96l-1.37-1.37c-.4-.4-.92-.59-1.43-.59-.52 0-1.04.2-1.43.59L10.3 9.45l-7.72 7.72c-.78.78-.78 2.05 0 2.83L4 21.41c.39.39.9.59 1.41.59.51 0 1.02-.2 1.41-.59l7.78-7.78 2.81-2.81c.8-.78.8-2.07 0-2.86zM5.41 20L4 18.59l7.72-7.72 1.47 1.35L5.41 20z\"/>\n",
              "  </svg>\n",
              "      </button>\n",
              "      \n",
              "  <style>\n",
              "    .colab-df-container {\n",
              "      display:flex;\n",
              "      flex-wrap:wrap;\n",
              "      gap: 12px;\n",
              "    }\n",
              "\n",
              "    .colab-df-convert {\n",
              "      background-color: #E8F0FE;\n",
              "      border: none;\n",
              "      border-radius: 50%;\n",
              "      cursor: pointer;\n",
              "      display: none;\n",
              "      fill: #1967D2;\n",
              "      height: 32px;\n",
              "      padding: 0 0 0 0;\n",
              "      width: 32px;\n",
              "    }\n",
              "\n",
              "    .colab-df-convert:hover {\n",
              "      background-color: #E2EBFA;\n",
              "      box-shadow: 0px 1px 2px rgba(60, 64, 67, 0.3), 0px 1px 3px 1px rgba(60, 64, 67, 0.15);\n",
              "      fill: #174EA6;\n",
              "    }\n",
              "\n",
              "    [theme=dark] .colab-df-convert {\n",
              "      background-color: #3B4455;\n",
              "      fill: #D2E3FC;\n",
              "    }\n",
              "\n",
              "    [theme=dark] .colab-df-convert:hover {\n",
              "      background-color: #434B5C;\n",
              "      box-shadow: 0px 1px 3px 1px rgba(0, 0, 0, 0.15);\n",
              "      filter: drop-shadow(0px 1px 2px rgba(0, 0, 0, 0.3));\n",
              "      fill: #FFFFFF;\n",
              "    }\n",
              "  </style>\n",
              "\n",
              "      <script>\n",
              "        const buttonEl =\n",
              "          document.querySelector('#df-d9f83f56-dcfc-4e37-b387-799fa7c9c8bb button.colab-df-convert');\n",
              "        buttonEl.style.display =\n",
              "          google.colab.kernel.accessAllowed ? 'block' : 'none';\n",
              "\n",
              "        async function convertToInteractive(key) {\n",
              "          const element = document.querySelector('#df-d9f83f56-dcfc-4e37-b387-799fa7c9c8bb');\n",
              "          const dataTable =\n",
              "            await google.colab.kernel.invokeFunction('convertToInteractive',\n",
              "                                                     [key], {});\n",
              "          if (!dataTable) return;\n",
              "\n",
              "          const docLinkHtml = 'Like what you see? Visit the ' +\n",
              "            '<a target=\"_blank\" href=https://colab.research.google.com/notebooks/data_table.ipynb>data table notebook</a>'\n",
              "            + ' to learn more about interactive tables.';\n",
              "          element.innerHTML = '';\n",
              "          dataTable['output_type'] = 'display_data';\n",
              "          await google.colab.output.renderOutput(dataTable, element);\n",
              "          const docLink = document.createElement('div');\n",
              "          docLink.innerHTML = docLinkHtml;\n",
              "          element.appendChild(docLink);\n",
              "        }\n",
              "      </script>\n",
              "    </div>\n",
              "  </div>\n",
              "  "
            ]
          },
          "metadata": {},
          "execution_count": 289
        }
      ]
    },
    {
      "cell_type": "markdown",
      "source": [
        "* As you can guess, the closer the cosine similarity between two customers to 1, the more likely those customers buy similar products.\n",
        "\n",
        "Let's pick one customer as an example. CustomerID = 12350."
      ],
      "metadata": {
        "id": "thePCM9hYUXJ"
      }
    },
    {
      "cell_type": "code",
      "source": [
        "user_to_user_sim_matrix.loc[12350.0].sort_values(ascending = False)"
      ],
      "metadata": {
        "colab": {
          "base_uri": "https://localhost:8080/"
        },
        "id": "8ZJWDRcTKfJl",
        "outputId": "dfb80ea1-1dfb-4b08-ea15-d37535914cc5"
      },
      "execution_count": 290,
      "outputs": [
        {
          "output_type": "execute_result",
          "data": {
            "text/plain": [
              "CustomerID\n",
              "12350.0    1.000000\n",
              "17935.0    0.183340\n",
              "12414.0    0.181902\n",
              "12652.0    0.175035\n",
              "16754.0    0.171499\n",
              "             ...   \n",
              "14882.0    0.000000\n",
              "14883.0    0.000000\n",
              "14885.0    0.000000\n",
              "14886.0    0.000000\n",
              "18287.0    0.000000\n",
              "Name: 12350.0, Length: 4298, dtype: float64"
            ]
          },
          "metadata": {},
          "execution_count": 290
        }
      ]
    },
    {
      "cell_type": "code",
      "source": [
        "# Items bought by User A\n",
        "items_bought_by_A = set(customer_item_matrix.loc[12350.0].iloc[customer_item_matrix.loc[12350.0].to_numpy().nonzero()].index)"
      ],
      "metadata": {
        "id": "ntYh-QLZHHqS"
      },
      "execution_count": 291,
      "outputs": []
    },
    {
      "cell_type": "code",
      "source": [
        "# Items bought by User B (I pick a customer with ID=17935)\n",
        "items_bought_by_B = set(customer_item_matrix.loc[17935.0].iloc[customer_item_matrix.loc[17935.0].to_numpy().nonzero()].index)"
      ],
      "metadata": {
        "id": "oe6f5gXwHWxD"
      },
      "execution_count": 292,
      "outputs": []
    },
    {
      "cell_type": "markdown",
      "source": [
        "* let's find the items that the customer B didn't buy so we can recommend these items to buy for B"
      ],
      "metadata": {
        "id": "YmeAHfd6Y-jT"
      }
    },
    {
      "cell_type": "code",
      "source": [
        "items_to_recommend_User_B = items_bought_by_A - items_bought_by_B"
      ],
      "metadata": {
        "id": "Jb5zKh4bHZZA"
      },
      "execution_count": 293,
      "outputs": []
    },
    {
      "cell_type": "markdown",
      "source": [
        "**Recommedation to user after picking random customer ID based on items bought by user A**"
      ],
      "metadata": {
        "id": "Sd2f43GCHhyI"
      }
    },
    {
      "cell_type": "code",
      "source": [
        "df.loc[\n",
        "    df['StockCode'].isin(items_to_recommend_User_B),\n",
        "    ['StockCode','Description']\n",
        "].drop_duplicates().set_index('StockCode')"
      ],
      "metadata": {
        "colab": {
          "base_uri": "https://localhost:8080/",
          "height": 483
        },
        "id": "67E_Y_u1Hjzy",
        "outputId": "ceba5a0c-4302-4ded-da9d-645c10dac842"
      },
      "execution_count": 294,
      "outputs": [
        {
          "output_type": "execute_result",
          "data": {
            "text/plain": [
              "                               Description\n",
              "StockCode                                 \n",
              "21832                 CHOCOLATE CALCULATOR\n",
              "21915               RED  HARMONICA IN BOX \n",
              "22620          4 TRADITIONAL SPINNING TOPS\n",
              "79066K                      RETRO MOD TRAY\n",
              "21864      UNION JACK FLAG PASSPORT COVER \n",
              "79191C         RETRO PLASTIC ELEPHANT TRAY\n",
              "21908        CHOCOLATE THIS WAY METAL SIGN\n",
              "20615         BLUE POLKADOT PASSPORT COVER\n",
              "20652           BLUE POLKADOT LUGGAGE TAG \n",
              "22348          TEA BAG PLATE RED RETROSPOT\n",
              "22412      METAL SIGN NEIGHBOURHOOD WITCH \n",
              "21171                 BATHROOM METAL SIGN \n",
              "84086C             PINK/PURPLE RETRO RADIO"
            ],
            "text/html": [
              "\n",
              "  <div id=\"df-8abbb3c0-e0ad-4517-846f-7e64c612a9ee\">\n",
              "    <div class=\"colab-df-container\">\n",
              "      <div>\n",
              "<style scoped>\n",
              "    .dataframe tbody tr th:only-of-type {\n",
              "        vertical-align: middle;\n",
              "    }\n",
              "\n",
              "    .dataframe tbody tr th {\n",
              "        vertical-align: top;\n",
              "    }\n",
              "\n",
              "    .dataframe thead th {\n",
              "        text-align: right;\n",
              "    }\n",
              "</style>\n",
              "<table border=\"1\" class=\"dataframe\">\n",
              "  <thead>\n",
              "    <tr style=\"text-align: right;\">\n",
              "      <th></th>\n",
              "      <th>Description</th>\n",
              "    </tr>\n",
              "    <tr>\n",
              "      <th>StockCode</th>\n",
              "      <th></th>\n",
              "    </tr>\n",
              "  </thead>\n",
              "  <tbody>\n",
              "    <tr>\n",
              "      <th>21832</th>\n",
              "      <td>CHOCOLATE CALCULATOR</td>\n",
              "    </tr>\n",
              "    <tr>\n",
              "      <th>21915</th>\n",
              "      <td>RED  HARMONICA IN BOX</td>\n",
              "    </tr>\n",
              "    <tr>\n",
              "      <th>22620</th>\n",
              "      <td>4 TRADITIONAL SPINNING TOPS</td>\n",
              "    </tr>\n",
              "    <tr>\n",
              "      <th>79066K</th>\n",
              "      <td>RETRO MOD TRAY</td>\n",
              "    </tr>\n",
              "    <tr>\n",
              "      <th>21864</th>\n",
              "      <td>UNION JACK FLAG PASSPORT COVER</td>\n",
              "    </tr>\n",
              "    <tr>\n",
              "      <th>79191C</th>\n",
              "      <td>RETRO PLASTIC ELEPHANT TRAY</td>\n",
              "    </tr>\n",
              "    <tr>\n",
              "      <th>21908</th>\n",
              "      <td>CHOCOLATE THIS WAY METAL SIGN</td>\n",
              "    </tr>\n",
              "    <tr>\n",
              "      <th>20615</th>\n",
              "      <td>BLUE POLKADOT PASSPORT COVER</td>\n",
              "    </tr>\n",
              "    <tr>\n",
              "      <th>20652</th>\n",
              "      <td>BLUE POLKADOT LUGGAGE TAG</td>\n",
              "    </tr>\n",
              "    <tr>\n",
              "      <th>22348</th>\n",
              "      <td>TEA BAG PLATE RED RETROSPOT</td>\n",
              "    </tr>\n",
              "    <tr>\n",
              "      <th>22412</th>\n",
              "      <td>METAL SIGN NEIGHBOURHOOD WITCH</td>\n",
              "    </tr>\n",
              "    <tr>\n",
              "      <th>21171</th>\n",
              "      <td>BATHROOM METAL SIGN</td>\n",
              "    </tr>\n",
              "    <tr>\n",
              "      <th>84086C</th>\n",
              "      <td>PINK/PURPLE RETRO RADIO</td>\n",
              "    </tr>\n",
              "  </tbody>\n",
              "</table>\n",
              "</div>\n",
              "      <button class=\"colab-df-convert\" onclick=\"convertToInteractive('df-8abbb3c0-e0ad-4517-846f-7e64c612a9ee')\"\n",
              "              title=\"Convert this dataframe to an interactive table.\"\n",
              "              style=\"display:none;\">\n",
              "        \n",
              "  <svg xmlns=\"http://www.w3.org/2000/svg\" height=\"24px\"viewBox=\"0 0 24 24\"\n",
              "       width=\"24px\">\n",
              "    <path d=\"M0 0h24v24H0V0z\" fill=\"none\"/>\n",
              "    <path d=\"M18.56 5.44l.94 2.06.94-2.06 2.06-.94-2.06-.94-.94-2.06-.94 2.06-2.06.94zm-11 1L8.5 8.5l.94-2.06 2.06-.94-2.06-.94L8.5 2.5l-.94 2.06-2.06.94zm10 10l.94 2.06.94-2.06 2.06-.94-2.06-.94-.94-2.06-.94 2.06-2.06.94z\"/><path d=\"M17.41 7.96l-1.37-1.37c-.4-.4-.92-.59-1.43-.59-.52 0-1.04.2-1.43.59L10.3 9.45l-7.72 7.72c-.78.78-.78 2.05 0 2.83L4 21.41c.39.39.9.59 1.41.59.51 0 1.02-.2 1.41-.59l7.78-7.78 2.81-2.81c.8-.78.8-2.07 0-2.86zM5.41 20L4 18.59l7.72-7.72 1.47 1.35L5.41 20z\"/>\n",
              "  </svg>\n",
              "      </button>\n",
              "      \n",
              "  <style>\n",
              "    .colab-df-container {\n",
              "      display:flex;\n",
              "      flex-wrap:wrap;\n",
              "      gap: 12px;\n",
              "    }\n",
              "\n",
              "    .colab-df-convert {\n",
              "      background-color: #E8F0FE;\n",
              "      border: none;\n",
              "      border-radius: 50%;\n",
              "      cursor: pointer;\n",
              "      display: none;\n",
              "      fill: #1967D2;\n",
              "      height: 32px;\n",
              "      padding: 0 0 0 0;\n",
              "      width: 32px;\n",
              "    }\n",
              "\n",
              "    .colab-df-convert:hover {\n",
              "      background-color: #E2EBFA;\n",
              "      box-shadow: 0px 1px 2px rgba(60, 64, 67, 0.3), 0px 1px 3px 1px rgba(60, 64, 67, 0.15);\n",
              "      fill: #174EA6;\n",
              "    }\n",
              "\n",
              "    [theme=dark] .colab-df-convert {\n",
              "      background-color: #3B4455;\n",
              "      fill: #D2E3FC;\n",
              "    }\n",
              "\n",
              "    [theme=dark] .colab-df-convert:hover {\n",
              "      background-color: #434B5C;\n",
              "      box-shadow: 0px 1px 3px 1px rgba(0, 0, 0, 0.15);\n",
              "      filter: drop-shadow(0px 1px 2px rgba(0, 0, 0, 0.3));\n",
              "      fill: #FFFFFF;\n",
              "    }\n",
              "  </style>\n",
              "\n",
              "      <script>\n",
              "        const buttonEl =\n",
              "          document.querySelector('#df-8abbb3c0-e0ad-4517-846f-7e64c612a9ee button.colab-df-convert');\n",
              "        buttonEl.style.display =\n",
              "          google.colab.kernel.accessAllowed ? 'block' : 'none';\n",
              "\n",
              "        async function convertToInteractive(key) {\n",
              "          const element = document.querySelector('#df-8abbb3c0-e0ad-4517-846f-7e64c612a9ee');\n",
              "          const dataTable =\n",
              "            await google.colab.kernel.invokeFunction('convertToInteractive',\n",
              "                                                     [key], {});\n",
              "          if (!dataTable) return;\n",
              "\n",
              "          const docLinkHtml = 'Like what you see? Visit the ' +\n",
              "            '<a target=\"_blank\" href=https://colab.research.google.com/notebooks/data_table.ipynb>data table notebook</a>'\n",
              "            + ' to learn more about interactive tables.';\n",
              "          element.innerHTML = '';\n",
              "          dataTable['output_type'] = 'display_data';\n",
              "          await google.colab.output.renderOutput(dataTable, element);\n",
              "          const docLink = document.createElement('div');\n",
              "          docLink.innerHTML = docLinkHtml;\n",
              "          element.appendChild(docLink);\n",
              "        }\n",
              "      </script>\n",
              "    </div>\n",
              "  </div>\n",
              "  "
            ]
          },
          "metadata": {},
          "execution_count": 294
        }
      ]
    },
    {
      "cell_type": "markdown",
      "source": [
        "* Here we have a list of products that we can recommend to the customer B (with CustomerID=17935).\n",
        "\n",
        "* By using this user-based collaborative filtering, we can customize our marketing messages (email, ads, articles) and drive more conversions from our customers.\n",
        "\n",
        "* There is a disadvantage of this method though. We only can recommend products based on a customer purchase history. So we can not use this method for new customers. To manage this problem, we can use **item-based collaborative** filtering.\n",
        "\n",
        "* Now we will find similarities between items as we did before with customers."
      ],
      "metadata": {
        "id": "rHXi-eDiZZQ7"
      }
    },
    {
      "cell_type": "markdown",
      "source": [
        "# Item-Based Collaborative Filtering"
      ],
      "metadata": {
        "id": "s1Q1hJEVHwp0"
      }
    },
    {
      "cell_type": "code",
      "source": [
        "# item-to-item similarity matrix\n",
        "\n",
        "item_item_sim_matrix = pd.DataFrame(cosine_similarity(customer_item_matrix.T))\n",
        "item_item_sim_matrix.columns = customer_item_matrix.T.index\n",
        "item_item_sim_matrix['StockCode'] = customer_item_matrix.T.index\n",
        "item_item_sim_matrix = item_item_sim_matrix.set_index('StockCode')\n",
        "item_item_sim_matrix.head()"
      ],
      "metadata": {
        "colab": {
          "base_uri": "https://localhost:8080/",
          "height": 345
        },
        "id": "eVyLXNk6Ksi7",
        "outputId": "95cfc768-a9d8-4de1-f428-70fa52be363e"
      },
      "execution_count": 295,
      "outputs": [
        {
          "output_type": "execute_result",
          "data": {
            "text/plain": [
              "StockCode     10002  10080     10120    10123C  10124A    10124G     10125  \\\n",
              "StockCode                                                                    \n",
              "10002      1.000000    0.0  0.094868  0.091287     0.0  0.000000  0.091287   \n",
              "10080      0.000000    1.0  0.000000  0.000000     0.0  0.000000  0.033113   \n",
              "10120      0.094868    0.0  1.000000  0.115470     0.0  0.000000  0.057735   \n",
              "10123C     0.091287    0.0  0.115470  1.000000     0.0  0.000000  0.166667   \n",
              "10124A     0.000000    0.0  0.000000  0.000000     1.0  0.447214  0.064550   \n",
              "\n",
              "StockCode     10133     10135     11001  ...  90214R  90214S  90214V  90214Y  \\\n",
              "StockCode                                ...                                   \n",
              "10002      0.062932  0.099449  0.097590  ...     0.0     0.0     0.0     0.0   \n",
              "10080      0.045655  0.048099  0.000000  ...     0.0     0.0     0.0     0.0   \n",
              "10120      0.059702  0.041931  0.061721  ...     0.0     0.0     0.0     0.0   \n",
              "10123C     0.000000  0.000000  0.000000  ...     0.0     0.0     0.0     0.0   \n",
              "10124A     0.044499  0.000000  0.000000  ...     0.0     0.0     0.0     0.0   \n",
              "\n",
              "StockCode  BANK CHARGES        C2  DOT         M  PADS      POST  \n",
              "StockCode                                                         \n",
              "10002               0.0  0.029361  0.0  0.067250   0.0  0.070382  \n",
              "10080               0.0  0.000000  0.0  0.016263   0.0  0.000000  \n",
              "10120               0.0  0.000000  0.0  0.070888   0.0  0.011128  \n",
              "10123C              0.0  0.000000  0.0  0.000000   0.0  0.000000  \n",
              "10124A              0.0  0.000000  0.0  0.000000   0.0  0.000000  \n",
              "\n",
              "[5 rows x 3657 columns]"
            ],
            "text/html": [
              "\n",
              "  <div id=\"df-0771e414-aa8f-4f06-913f-3b5211cd164b\">\n",
              "    <div class=\"colab-df-container\">\n",
              "      <div>\n",
              "<style scoped>\n",
              "    .dataframe tbody tr th:only-of-type {\n",
              "        vertical-align: middle;\n",
              "    }\n",
              "\n",
              "    .dataframe tbody tr th {\n",
              "        vertical-align: top;\n",
              "    }\n",
              "\n",
              "    .dataframe thead th {\n",
              "        text-align: right;\n",
              "    }\n",
              "</style>\n",
              "<table border=\"1\" class=\"dataframe\">\n",
              "  <thead>\n",
              "    <tr style=\"text-align: right;\">\n",
              "      <th>StockCode</th>\n",
              "      <th>10002</th>\n",
              "      <th>10080</th>\n",
              "      <th>10120</th>\n",
              "      <th>10123C</th>\n",
              "      <th>10124A</th>\n",
              "      <th>10124G</th>\n",
              "      <th>10125</th>\n",
              "      <th>10133</th>\n",
              "      <th>10135</th>\n",
              "      <th>11001</th>\n",
              "      <th>...</th>\n",
              "      <th>90214R</th>\n",
              "      <th>90214S</th>\n",
              "      <th>90214V</th>\n",
              "      <th>90214Y</th>\n",
              "      <th>BANK CHARGES</th>\n",
              "      <th>C2</th>\n",
              "      <th>DOT</th>\n",
              "      <th>M</th>\n",
              "      <th>PADS</th>\n",
              "      <th>POST</th>\n",
              "    </tr>\n",
              "    <tr>\n",
              "      <th>StockCode</th>\n",
              "      <th></th>\n",
              "      <th></th>\n",
              "      <th></th>\n",
              "      <th></th>\n",
              "      <th></th>\n",
              "      <th></th>\n",
              "      <th></th>\n",
              "      <th></th>\n",
              "      <th></th>\n",
              "      <th></th>\n",
              "      <th></th>\n",
              "      <th></th>\n",
              "      <th></th>\n",
              "      <th></th>\n",
              "      <th></th>\n",
              "      <th></th>\n",
              "      <th></th>\n",
              "      <th></th>\n",
              "      <th></th>\n",
              "      <th></th>\n",
              "      <th></th>\n",
              "    </tr>\n",
              "  </thead>\n",
              "  <tbody>\n",
              "    <tr>\n",
              "      <th>10002</th>\n",
              "      <td>1.000000</td>\n",
              "      <td>0.0</td>\n",
              "      <td>0.094868</td>\n",
              "      <td>0.091287</td>\n",
              "      <td>0.0</td>\n",
              "      <td>0.000000</td>\n",
              "      <td>0.091287</td>\n",
              "      <td>0.062932</td>\n",
              "      <td>0.099449</td>\n",
              "      <td>0.097590</td>\n",
              "      <td>...</td>\n",
              "      <td>0.0</td>\n",
              "      <td>0.0</td>\n",
              "      <td>0.0</td>\n",
              "      <td>0.0</td>\n",
              "      <td>0.0</td>\n",
              "      <td>0.029361</td>\n",
              "      <td>0.0</td>\n",
              "      <td>0.067250</td>\n",
              "      <td>0.0</td>\n",
              "      <td>0.070382</td>\n",
              "    </tr>\n",
              "    <tr>\n",
              "      <th>10080</th>\n",
              "      <td>0.000000</td>\n",
              "      <td>1.0</td>\n",
              "      <td>0.000000</td>\n",
              "      <td>0.000000</td>\n",
              "      <td>0.0</td>\n",
              "      <td>0.000000</td>\n",
              "      <td>0.033113</td>\n",
              "      <td>0.045655</td>\n",
              "      <td>0.048099</td>\n",
              "      <td>0.000000</td>\n",
              "      <td>...</td>\n",
              "      <td>0.0</td>\n",
              "      <td>0.0</td>\n",
              "      <td>0.0</td>\n",
              "      <td>0.0</td>\n",
              "      <td>0.0</td>\n",
              "      <td>0.000000</td>\n",
              "      <td>0.0</td>\n",
              "      <td>0.016263</td>\n",
              "      <td>0.0</td>\n",
              "      <td>0.000000</td>\n",
              "    </tr>\n",
              "    <tr>\n",
              "      <th>10120</th>\n",
              "      <td>0.094868</td>\n",
              "      <td>0.0</td>\n",
              "      <td>1.000000</td>\n",
              "      <td>0.115470</td>\n",
              "      <td>0.0</td>\n",
              "      <td>0.000000</td>\n",
              "      <td>0.057735</td>\n",
              "      <td>0.059702</td>\n",
              "      <td>0.041931</td>\n",
              "      <td>0.061721</td>\n",
              "      <td>...</td>\n",
              "      <td>0.0</td>\n",
              "      <td>0.0</td>\n",
              "      <td>0.0</td>\n",
              "      <td>0.0</td>\n",
              "      <td>0.0</td>\n",
              "      <td>0.000000</td>\n",
              "      <td>0.0</td>\n",
              "      <td>0.070888</td>\n",
              "      <td>0.0</td>\n",
              "      <td>0.011128</td>\n",
              "    </tr>\n",
              "    <tr>\n",
              "      <th>10123C</th>\n",
              "      <td>0.091287</td>\n",
              "      <td>0.0</td>\n",
              "      <td>0.115470</td>\n",
              "      <td>1.000000</td>\n",
              "      <td>0.0</td>\n",
              "      <td>0.000000</td>\n",
              "      <td>0.166667</td>\n",
              "      <td>0.000000</td>\n",
              "      <td>0.000000</td>\n",
              "      <td>0.000000</td>\n",
              "      <td>...</td>\n",
              "      <td>0.0</td>\n",
              "      <td>0.0</td>\n",
              "      <td>0.0</td>\n",
              "      <td>0.0</td>\n",
              "      <td>0.0</td>\n",
              "      <td>0.000000</td>\n",
              "      <td>0.0</td>\n",
              "      <td>0.000000</td>\n",
              "      <td>0.0</td>\n",
              "      <td>0.000000</td>\n",
              "    </tr>\n",
              "    <tr>\n",
              "      <th>10124A</th>\n",
              "      <td>0.000000</td>\n",
              "      <td>0.0</td>\n",
              "      <td>0.000000</td>\n",
              "      <td>0.000000</td>\n",
              "      <td>1.0</td>\n",
              "      <td>0.447214</td>\n",
              "      <td>0.064550</td>\n",
              "      <td>0.044499</td>\n",
              "      <td>0.000000</td>\n",
              "      <td>0.000000</td>\n",
              "      <td>...</td>\n",
              "      <td>0.0</td>\n",
              "      <td>0.0</td>\n",
              "      <td>0.0</td>\n",
              "      <td>0.0</td>\n",
              "      <td>0.0</td>\n",
              "      <td>0.000000</td>\n",
              "      <td>0.0</td>\n",
              "      <td>0.000000</td>\n",
              "      <td>0.0</td>\n",
              "      <td>0.000000</td>\n",
              "    </tr>\n",
              "  </tbody>\n",
              "</table>\n",
              "<p>5 rows × 3657 columns</p>\n",
              "</div>\n",
              "      <button class=\"colab-df-convert\" onclick=\"convertToInteractive('df-0771e414-aa8f-4f06-913f-3b5211cd164b')\"\n",
              "              title=\"Convert this dataframe to an interactive table.\"\n",
              "              style=\"display:none;\">\n",
              "        \n",
              "  <svg xmlns=\"http://www.w3.org/2000/svg\" height=\"24px\"viewBox=\"0 0 24 24\"\n",
              "       width=\"24px\">\n",
              "    <path d=\"M0 0h24v24H0V0z\" fill=\"none\"/>\n",
              "    <path d=\"M18.56 5.44l.94 2.06.94-2.06 2.06-.94-2.06-.94-.94-2.06-.94 2.06-2.06.94zm-11 1L8.5 8.5l.94-2.06 2.06-.94-2.06-.94L8.5 2.5l-.94 2.06-2.06.94zm10 10l.94 2.06.94-2.06 2.06-.94-2.06-.94-.94-2.06-.94 2.06-2.06.94z\"/><path d=\"M17.41 7.96l-1.37-1.37c-.4-.4-.92-.59-1.43-.59-.52 0-1.04.2-1.43.59L10.3 9.45l-7.72 7.72c-.78.78-.78 2.05 0 2.83L4 21.41c.39.39.9.59 1.41.59.51 0 1.02-.2 1.41-.59l7.78-7.78 2.81-2.81c.8-.78.8-2.07 0-2.86zM5.41 20L4 18.59l7.72-7.72 1.47 1.35L5.41 20z\"/>\n",
              "  </svg>\n",
              "      </button>\n",
              "      \n",
              "  <style>\n",
              "    .colab-df-container {\n",
              "      display:flex;\n",
              "      flex-wrap:wrap;\n",
              "      gap: 12px;\n",
              "    }\n",
              "\n",
              "    .colab-df-convert {\n",
              "      background-color: #E8F0FE;\n",
              "      border: none;\n",
              "      border-radius: 50%;\n",
              "      cursor: pointer;\n",
              "      display: none;\n",
              "      fill: #1967D2;\n",
              "      height: 32px;\n",
              "      padding: 0 0 0 0;\n",
              "      width: 32px;\n",
              "    }\n",
              "\n",
              "    .colab-df-convert:hover {\n",
              "      background-color: #E2EBFA;\n",
              "      box-shadow: 0px 1px 2px rgba(60, 64, 67, 0.3), 0px 1px 3px 1px rgba(60, 64, 67, 0.15);\n",
              "      fill: #174EA6;\n",
              "    }\n",
              "\n",
              "    [theme=dark] .colab-df-convert {\n",
              "      background-color: #3B4455;\n",
              "      fill: #D2E3FC;\n",
              "    }\n",
              "\n",
              "    [theme=dark] .colab-df-convert:hover {\n",
              "      background-color: #434B5C;\n",
              "      box-shadow: 0px 1px 3px 1px rgba(0, 0, 0, 0.15);\n",
              "      filter: drop-shadow(0px 1px 2px rgba(0, 0, 0, 0.3));\n",
              "      fill: #FFFFFF;\n",
              "    }\n",
              "  </style>\n",
              "\n",
              "      <script>\n",
              "        const buttonEl =\n",
              "          document.querySelector('#df-0771e414-aa8f-4f06-913f-3b5211cd164b button.colab-df-convert');\n",
              "        buttonEl.style.display =\n",
              "          google.colab.kernel.accessAllowed ? 'block' : 'none';\n",
              "\n",
              "        async function convertToInteractive(key) {\n",
              "          const element = document.querySelector('#df-0771e414-aa8f-4f06-913f-3b5211cd164b');\n",
              "          const dataTable =\n",
              "            await google.colab.kernel.invokeFunction('convertToInteractive',\n",
              "                                                     [key], {});\n",
              "          if (!dataTable) return;\n",
              "\n",
              "          const docLinkHtml = 'Like what you see? Visit the ' +\n",
              "            '<a target=\"_blank\" href=https://colab.research.google.com/notebooks/data_table.ipynb>data table notebook</a>'\n",
              "            + ' to learn more about interactive tables.';\n",
              "          element.innerHTML = '';\n",
              "          dataTable['output_type'] = 'display_data';\n",
              "          await google.colab.output.renderOutput(dataTable, element);\n",
              "          const docLink = document.createElement('div');\n",
              "          docLink.innerHTML = docLinkHtml;\n",
              "          element.appendChild(docLink);\n",
              "        }\n",
              "      </script>\n",
              "    </div>\n",
              "  </div>\n",
              "  "
            ]
          },
          "metadata": {},
          "execution_count": 295
        }
      ]
    },
    {
      "cell_type": "markdown",
      "source": [
        "* Here we see another matrix that shows cosine similarities between defferent items.\n",
        "\n",
        "* Imagine you have a new customer who just bought a product with StockCode 23166. We want to include some products that this customer is most likely to purchase in our online retargeting campaign. Here what we can do:"
      ],
      "metadata": {
        "id": "3zdwUTWabhT7"
      }
    },
    {
      "cell_type": "code",
      "source": [
        "# find top10 most similar products to the product with StockCode 23166\n",
        "top_10_similar_items = list(item_item_sim_matrix.loc['23166'].sort_values(ascending=False).iloc[:10].index)"
      ],
      "metadata": {
        "id": "Sbkq7tJiLA19"
      },
      "execution_count": 296,
      "outputs": []
    },
    {
      "cell_type": "code",
      "source": [
        "df.loc[\n",
        "    df['StockCode'].isin(top_10_similar_items), \n",
        "    ['StockCode', 'Description']\n",
        "].drop_duplicates().set_index('StockCode').loc[top_10_similar_items]"
      ],
      "metadata": {
        "colab": {
          "base_uri": "https://localhost:8080/",
          "height": 390
        },
        "id": "X2JwFq0XLDoF",
        "outputId": "ba27326e-547c-4ae1-c84a-a4c5d5e563f1"
      },
      "execution_count": 297,
      "outputs": [
        {
          "output_type": "execute_result",
          "data": {
            "text/plain": [
              "                                   Description\n",
              "StockCode                                     \n",
              "23166           MEDIUM CERAMIC TOP STORAGE JAR\n",
              "23165            LARGE CERAMIC TOP STORAGE JAR\n",
              "23167           SMALL CERAMIC TOP STORAGE JAR \n",
              "22993             SET OF 4 PANTRY JELLY MOULDS\n",
              "23307      SET OF 60 PANTRY DESIGN CAKE CASES \n",
              "22722        SET OF 6 SPICE TINS PANTRY DESIGN\n",
              "22720        SET OF 3 CAKE TINS PANTRY DESIGN \n",
              "23243      SET OF TEA COFFEE SUGAR TINS PANTRY\n",
              "22961                   JAM MAKING SET PRINTED\n",
              "22666          RECIPE BOX PANTRY YELLOW DESIGN"
            ],
            "text/html": [
              "\n",
              "  <div id=\"df-1d9bbc82-f399-4def-8266-d2b3bfef8e43\">\n",
              "    <div class=\"colab-df-container\">\n",
              "      <div>\n",
              "<style scoped>\n",
              "    .dataframe tbody tr th:only-of-type {\n",
              "        vertical-align: middle;\n",
              "    }\n",
              "\n",
              "    .dataframe tbody tr th {\n",
              "        vertical-align: top;\n",
              "    }\n",
              "\n",
              "    .dataframe thead th {\n",
              "        text-align: right;\n",
              "    }\n",
              "</style>\n",
              "<table border=\"1\" class=\"dataframe\">\n",
              "  <thead>\n",
              "    <tr style=\"text-align: right;\">\n",
              "      <th></th>\n",
              "      <th>Description</th>\n",
              "    </tr>\n",
              "    <tr>\n",
              "      <th>StockCode</th>\n",
              "      <th></th>\n",
              "    </tr>\n",
              "  </thead>\n",
              "  <tbody>\n",
              "    <tr>\n",
              "      <th>23166</th>\n",
              "      <td>MEDIUM CERAMIC TOP STORAGE JAR</td>\n",
              "    </tr>\n",
              "    <tr>\n",
              "      <th>23165</th>\n",
              "      <td>LARGE CERAMIC TOP STORAGE JAR</td>\n",
              "    </tr>\n",
              "    <tr>\n",
              "      <th>23167</th>\n",
              "      <td>SMALL CERAMIC TOP STORAGE JAR</td>\n",
              "    </tr>\n",
              "    <tr>\n",
              "      <th>22993</th>\n",
              "      <td>SET OF 4 PANTRY JELLY MOULDS</td>\n",
              "    </tr>\n",
              "    <tr>\n",
              "      <th>23307</th>\n",
              "      <td>SET OF 60 PANTRY DESIGN CAKE CASES</td>\n",
              "    </tr>\n",
              "    <tr>\n",
              "      <th>22722</th>\n",
              "      <td>SET OF 6 SPICE TINS PANTRY DESIGN</td>\n",
              "    </tr>\n",
              "    <tr>\n",
              "      <th>22720</th>\n",
              "      <td>SET OF 3 CAKE TINS PANTRY DESIGN</td>\n",
              "    </tr>\n",
              "    <tr>\n",
              "      <th>23243</th>\n",
              "      <td>SET OF TEA COFFEE SUGAR TINS PANTRY</td>\n",
              "    </tr>\n",
              "    <tr>\n",
              "      <th>22961</th>\n",
              "      <td>JAM MAKING SET PRINTED</td>\n",
              "    </tr>\n",
              "    <tr>\n",
              "      <th>22666</th>\n",
              "      <td>RECIPE BOX PANTRY YELLOW DESIGN</td>\n",
              "    </tr>\n",
              "  </tbody>\n",
              "</table>\n",
              "</div>\n",
              "      <button class=\"colab-df-convert\" onclick=\"convertToInteractive('df-1d9bbc82-f399-4def-8266-d2b3bfef8e43')\"\n",
              "              title=\"Convert this dataframe to an interactive table.\"\n",
              "              style=\"display:none;\">\n",
              "        \n",
              "  <svg xmlns=\"http://www.w3.org/2000/svg\" height=\"24px\"viewBox=\"0 0 24 24\"\n",
              "       width=\"24px\">\n",
              "    <path d=\"M0 0h24v24H0V0z\" fill=\"none\"/>\n",
              "    <path d=\"M18.56 5.44l.94 2.06.94-2.06 2.06-.94-2.06-.94-.94-2.06-.94 2.06-2.06.94zm-11 1L8.5 8.5l.94-2.06 2.06-.94-2.06-.94L8.5 2.5l-.94 2.06-2.06.94zm10 10l.94 2.06.94-2.06 2.06-.94-2.06-.94-.94-2.06-.94 2.06-2.06.94z\"/><path d=\"M17.41 7.96l-1.37-1.37c-.4-.4-.92-.59-1.43-.59-.52 0-1.04.2-1.43.59L10.3 9.45l-7.72 7.72c-.78.78-.78 2.05 0 2.83L4 21.41c.39.39.9.59 1.41.59.51 0 1.02-.2 1.41-.59l7.78-7.78 2.81-2.81c.8-.78.8-2.07 0-2.86zM5.41 20L4 18.59l7.72-7.72 1.47 1.35L5.41 20z\"/>\n",
              "  </svg>\n",
              "      </button>\n",
              "      \n",
              "  <style>\n",
              "    .colab-df-container {\n",
              "      display:flex;\n",
              "      flex-wrap:wrap;\n",
              "      gap: 12px;\n",
              "    }\n",
              "\n",
              "    .colab-df-convert {\n",
              "      background-color: #E8F0FE;\n",
              "      border: none;\n",
              "      border-radius: 50%;\n",
              "      cursor: pointer;\n",
              "      display: none;\n",
              "      fill: #1967D2;\n",
              "      height: 32px;\n",
              "      padding: 0 0 0 0;\n",
              "      width: 32px;\n",
              "    }\n",
              "\n",
              "    .colab-df-convert:hover {\n",
              "      background-color: #E2EBFA;\n",
              "      box-shadow: 0px 1px 2px rgba(60, 64, 67, 0.3), 0px 1px 3px 1px rgba(60, 64, 67, 0.15);\n",
              "      fill: #174EA6;\n",
              "    }\n",
              "\n",
              "    [theme=dark] .colab-df-convert {\n",
              "      background-color: #3B4455;\n",
              "      fill: #D2E3FC;\n",
              "    }\n",
              "\n",
              "    [theme=dark] .colab-df-convert:hover {\n",
              "      background-color: #434B5C;\n",
              "      box-shadow: 0px 1px 3px 1px rgba(0, 0, 0, 0.15);\n",
              "      filter: drop-shadow(0px 1px 2px rgba(0, 0, 0, 0.3));\n",
              "      fill: #FFFFFF;\n",
              "    }\n",
              "  </style>\n",
              "\n",
              "      <script>\n",
              "        const buttonEl =\n",
              "          document.querySelector('#df-1d9bbc82-f399-4def-8266-d2b3bfef8e43 button.colab-df-convert');\n",
              "        buttonEl.style.display =\n",
              "          google.colab.kernel.accessAllowed ? 'block' : 'none';\n",
              "\n",
              "        async function convertToInteractive(key) {\n",
              "          const element = document.querySelector('#df-1d9bbc82-f399-4def-8266-d2b3bfef8e43');\n",
              "          const dataTable =\n",
              "            await google.colab.kernel.invokeFunction('convertToInteractive',\n",
              "                                                     [key], {});\n",
              "          if (!dataTable) return;\n",
              "\n",
              "          const docLinkHtml = 'Like what you see? Visit the ' +\n",
              "            '<a target=\"_blank\" href=https://colab.research.google.com/notebooks/data_table.ipynb>data table notebook</a>'\n",
              "            + ' to learn more about interactive tables.';\n",
              "          element.innerHTML = '';\n",
              "          dataTable['output_type'] = 'display_data';\n",
              "          await google.colab.output.renderOutput(dataTable, element);\n",
              "          const docLink = document.createElement('div');\n",
              "          docLink.innerHTML = docLinkHtml;\n",
              "          element.appendChild(docLink);\n",
              "        }\n",
              "      </script>\n",
              "    </div>\n",
              "  </div>\n",
              "  "
            ]
          },
          "metadata": {},
          "execution_count": 297
        }
      ]
    },
    {
      "cell_type": "markdown",
      "source": [
        "* The first item in this list is the one the target buyer just purchased. Other consumers who have purchased the first product frequently purchase the remaining 10 products. \n",
        "\n",
        "* Therefore, we can use these goods to suggest them to our prospective client. Conversion rates from customers typically increase when marketing messages are personalized and include targeted product recommendations. You can provide both new and returning consumers with product recommendations by employing an item-based collaborative filtering algorithm."
      ],
      "metadata": {
        "id": "9-Q_PHACcbM_"
      }
    },
    {
      "cell_type": "markdown",
      "source": [
        "# Summary\n",
        "\n",
        "\n",
        "1. I examined the state of the company's overall operations and discovered that it is expanding (in the number of orders and revenue). \n",
        "\n",
        "2. I discovered that the company generates revenue at a rate of 40–50% and has 20–30% recurring consumers. One of the best methods to help your business expand is through keeping clients. \n",
        "\n",
        "3. I found the top 5 trending items that the business might use in its marketing campaigns to draw in more clients. \n",
        "\n",
        "4. I demonstrated how the business can tailor marketing campaigns, emails, and more using collaborative filtering and product suggestions."
      ],
      "metadata": {
        "id": "OqDtWGNccsw8"
      }
    }
  ]
}